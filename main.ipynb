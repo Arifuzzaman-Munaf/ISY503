{
 "cells": [
  {
   "cell_type": "markdown",
   "metadata": {
    "id": "cKV-lVlxpSdu"
   },
   "source": [
    "# Assessments 3 - ISY503 Intelligent Systems\n",
    "# Sentiment Analysis of Amazon Product Reviews\n",
    "\n",
    "# 1. Initial Configuration\n",
    "In the initial configuration, Google Drive was mounted using drive.mount('/content/drive') to connect Colab’s temporary runtime with persistent cloud storage. This step is necessary because files stored directly in Colab are deleted once the session ends, while Drive provides a permanent location for datasets, scripts, model checkpoints, and outputs. Mounting enables seamless access to files under /content/drive/MyDrive/, allowing datasets to be loaded, results to be saved, and project resources to be organized in a consistent location. This configuration ensures persistence, reproducibility, and efficient handling of large datasets without repeated uploads."
   ]
  },
  {
   "cell_type": "code",
   "execution_count": 36,
   "metadata": {
    "colab": {
     "base_uri": "https://localhost:8080/"
    },
    "executionInfo": {
     "elapsed": 3653,
     "status": "ok",
     "timestamp": 1756012041793,
     "user": {
      "displayName": "Md. Arifuzzaman Munaf",
      "userId": "05714721125718487051"
     },
     "user_tz": -600
    },
    "id": "4lVbODB6TfVW",
    "outputId": "2aa87472-18d6-4d23-8e0c-9a949b2c724c"
   },
   "outputs": [
    {
     "name": "stderr",
     "output_type": "stream",
     "text": [
      "[nltk_data] Downloading package stopwords to /root/nltk_data...\n",
      "[nltk_data]   Package stopwords is already up-to-date!\n"
     ]
    },
    {
     "name": "stdout",
     "output_type": "stream",
     "text": [
      "Using device: cuda:0\n",
      "Drive already mounted at /content/drive; to attempt to forcibly remount, call drive.mount(\"/content/drive\", force_remount=True).\n"
     ]
    }
   ],
   "source": [
    "# Mount Google Drive to access files\n",
    "from google.colab import drive\n",
    "drive.mount('/content/drive')"
   ]
  },
  {
   "cell_type": "markdown",
   "metadata": {
    "id": "giPD2n56peyM"
   },
   "source": [
    "The system path was updated by appending the project directory located in Google Drive (/content/drive/MyDrive/ISY503) to sys.path. This was done to ensure that Python recognizes the folder as a valid source for modules and packages, allowing scripts and custom code stored in that directory to be imported directly into the Colab environment. Without this step, Python would not automatically search the Google Drive project folder when resolving imports, making it necessary to adjust the path manually for seamless integration and modular code reuse."
   ]
  },
  {
   "cell_type": "code",
   "execution_count": 37,
   "metadata": {
    "executionInfo": {
     "elapsed": 55,
     "status": "ok",
     "timestamp": 1756012041846,
     "user": {
      "displayName": "Md. Arifuzzaman Munaf",
      "userId": "05714721125718487051"
     },
     "user_tz": -600
    },
    "id": "gf09EP9Z_alI"
   },
   "outputs": [],
   "source": [
    "import sys\n",
    "\n",
    "# Define the project directory in Google Drive\n",
    "SKELETON_DIR  = '/content/drive/MyDrive/ISY503'\n",
    "\n",
    "# Add the project directory to Python's module search path.\n",
    "# This allows direct importing of custom modules and scripts\n",
    "# located in the DLE602 folder without changing the working directory.\n",
    "if SKELETON_DIR not in sys.path:\n",
    "    sys.path.append(SKELETON_DIR)"
   ]
  },
  {
   "cell_type": "code",
   "execution_count": 38,
   "metadata": {
    "colab": {
     "base_uri": "https://localhost:8080/"
    },
    "executionInfo": {
     "elapsed": 80,
     "status": "ok",
     "timestamp": 1756012041927,
     "user": {
      "displayName": "Md. Arifuzzaman Munaf",
      "userId": "05714721125718487051"
     },
     "user_tz": -600
    },
    "id": "9kCXzqhE_nmy",
    "outputId": "cb55e7e8-3364-42f9-b61a-54dd20a306ca"
   },
   "outputs": [
    {
     "name": "stdout",
     "output_type": "stream",
     "text": [
      "The autoreload extension is already loaded. To reload it, use:\n",
      "  %reload_ext autoreload\n"
     ]
    }
   ],
   "source": [
    "# This snippet ensures compatibility with deprecated 'imp.reload' by\n",
    "# mapping it to 'importlib.reload'. It then enables IPython's autoreload\n",
    "# extension, which automatically reloads imported modules before executing\n",
    "# code. This is useful during development so that changes in external\n",
    "# modules are picked up without restarting the interpreter.\n",
    "import importlib, types, sys\n",
    "sys.modules['imp'] = types.SimpleNamespace(reload=importlib.reload)\n",
    "\n",
    "%load_ext autoreload\n",
    "%autoreload 2"
   ]
  },
  {
   "cell_type": "code",
   "execution_count": 39,
   "metadata": {
    "executionInfo": {
     "elapsed": 5580,
     "status": "ok",
     "timestamp": 1756012047529,
     "user": {
      "displayName": "Md. Arifuzzaman Munaf",
      "userId": "05714721125718487051"
     },
     "user_tz": -600
    },
    "id": "l2t8xBnz_qFP"
   },
   "outputs": [],
   "source": [
    "# installing required libraries\n",
    "!pip3 install -q -r {SKELETON_DIR}/requirements.txt"
   ]
  },
  {
   "cell_type": "code",
   "execution_count": 40,
   "metadata": {
    "executionInfo": {
     "elapsed": 55,
     "status": "ok",
     "timestamp": 1756012047587,
     "user": {
      "displayName": "Md. Arifuzzaman Munaf",
      "userId": "05714721125718487051"
     },
     "user_tz": -600
    },
    "id": "q6dXJVAWAHOf"
   },
   "outputs": [],
   "source": [
    "# Import necessary libraries\n",
    "import torch\n",
    "import numpy as np\n",
    "import pandas as pd\n",
    "from config import CFG\n",
    "\n",
    "# set configuration path and data for project\n",
    "cfg = CFG(SKELETON_DIR)\n",
    "\n",
    "# Set benchmark to True for performance improvements in cuDNN\n",
    "torch.backends.cudnn.benchmark = True\n",
    "\n",
    "# Determine the device to use\n",
    "device = 'cuda' if torch.cuda.is_available() else 'cpu'\n",
    "\n",
    "# Set the default figure size for matplotlib plots\n",
    "import matplotlib.pyplot as plt\n",
    "plt.rcParams['figure.dpi'] = 120"
   ]
  },
  {
   "cell_type": "markdown",
   "metadata": {
    "id": "sbleBurUBkYw"
   },
   "source": [
    "# 2. Dataset: Multi-Domain Sentiment Dataset\n",
    "\n",
    "The Multi-Domain Sentiment Dataset is a widely used benchmark for sentiment classification, particularly in the context of domain adaptation research. It consists of Amazon product reviews collected across four distinct domains: Books, DVDs, Electronics, and Kitchen appliances. Each review is associated with a star rating (1–5 stars), which enables experimentation with both binary sentiment classification (positive vs. negative) and multi-class sentiment analysis.\n",
    "\n",
    "The dataset is organized by domain, and within each domain, reviews are further separated into positive, negative, and unlabeled sets. Reviews are formatted in a pseudo-XML structure, containing metadata such as reviewer, product information, and review text. While this metadata can be useful, researchers are advised to handle duplicate review identifiers carefully, as not all IDs are unique.\n",
    "\n",
    "The version selected for this work is the 30 MB release, which provides a compact yet comprehensive dataset suitable for efficient experimentation. It can be accessed via the following link:\n",
    "https://www.cs.jhu.edu/~mdredze/datasets/sentiment/domain_sentiment_data.tar.gz\n",
    "\n",
    "For this project the dataset will be used for binary classification task such as positive or negative sentiment analysis."
   ]
  },
  {
   "cell_type": "code",
   "execution_count": 41,
   "metadata": {
    "colab": {
     "base_uri": "https://localhost:8080/"
    },
    "executionInfo": {
     "elapsed": 879,
     "status": "ok",
     "timestamp": 1756012048474,
     "user": {
      "displayName": "Md. Arifuzzaman Munaf",
      "userId": "05714721125718487051"
     },
     "user_tz": -600
    },
    "id": "OHy7wgprBmQ3",
    "outputId": "3cd18c71-8c3a-4c71-a6ad-2304839dc373"
   },
   "outputs": [
    {
     "name": "stdout",
     "output_type": "stream",
     "text": [
      "Dataset archive already exists, skipping download.\n",
      "Extracting dataset...\n",
      "Dataset extracted to: dataset\n",
      "dataset/sorted_data_acl\n"
     ]
    }
   ],
   "source": [
    "from src import dataset\n",
    "\n",
    "root_dir = dataset.download_and_extract_dataset(cfg)\n",
    "print(root_dir)"
   ]
  },
  {
   "cell_type": "code",
   "execution_count": 42,
   "metadata": {
    "colab": {
     "base_uri": "https://localhost:8080/",
     "height": 363
    },
    "executionInfo": {
     "elapsed": 326,
     "status": "ok",
     "timestamp": 1756012048800,
     "user": {
      "displayName": "Md. Arifuzzaman Munaf",
      "userId": "05714721125718487051"
     },
     "user_tz": -600
    },
    "id": "KFy0lw2bDLeu",
    "outputId": "28ca954b-59ee-4239-864d-11d874ab5a29"
   },
   "outputs": [
    {
     "data": {
      "application/vnd.google.colaboratory.intrinsic+json": {
       "summary": "{\n  \"name\": \"df\",\n  \"rows\": 10803,\n  \"fields\": [\n    {\n      \"column\": \"text\",\n      \"properties\": {\n        \"dtype\": \"string\",\n        \"num_unique_values\": 10536,\n        \"samples\": [\n          \"Through affirmations, working with feelings, visualizations and other techniques, the author shows the reader how to work through toxic shame. As someone who has done the work himself, he comes across as compassionate, knowledgeable and very practical.\",\n          \"This is an entertaining book that you'll hate to throw away when it's been completed because of all the witty cartoons it contains. Enjoy!\",\n          \"He mentions string theory (quantum physics) and the \\\"true\\\" nature of the big bang, going on to say that levitation isn't a \\\"miracle\\\" but only a matter of superseding gravity with the \\\"Torsion Field\\\". The problem is that he's tossing about these terms in support of Jesus' words that \\\"ye are all gods\\\" and \\\"greater works than these shall you do\\\" without actually explaining the meaning or *science* of a Torsion Field and just how consciousness supersedes natural laws. (FYI: The Torsion Field is quantum spin waves of empty space. Einstein and Elie Cartan did some preliminary work on this theory in the 1920's. The Einstein-Cartan theory could possibly be used to explain ESP, among other things.)\"\n        ],\n        \"semantic_type\": \"\",\n        \"description\": \"\"\n      }\n    },\n    {\n      \"column\": \"label\",\n      \"properties\": {\n        \"dtype\": \"number\",\n        \"std\": 0,\n        \"min\": 0,\n        \"max\": 1,\n        \"num_unique_values\": 2,\n        \"samples\": [\n          0,\n          1\n        ],\n        \"semantic_type\": \"\",\n        \"description\": \"\"\n      }\n    },\n    {\n      \"column\": \"domain\",\n      \"properties\": {\n        \"dtype\": \"category\",\n        \"num_unique_values\": 4,\n        \"samples\": [\n          \"dvd\",\n          \"kitchen_&_housewares\"\n        ],\n        \"semantic_type\": \"\",\n        \"description\": \"\"\n      }\n    }\n  ]\n}",
       "type": "dataframe",
       "variable_name": "df"
      },
      "text/html": [
       "\n",
       "  <div id=\"df-0a2da8dd-a2de-45f4-b2a6-8e8aa33ff668\" class=\"colab-df-container\">\n",
       "    <div>\n",
       "<style scoped>\n",
       "    .dataframe tbody tr th:only-of-type {\n",
       "        vertical-align: middle;\n",
       "    }\n",
       "\n",
       "    .dataframe tbody tr th {\n",
       "        vertical-align: top;\n",
       "    }\n",
       "\n",
       "    .dataframe thead th {\n",
       "        text-align: right;\n",
       "    }\n",
       "</style>\n",
       "<table border=\"1\" class=\"dataframe\">\n",
       "  <thead>\n",
       "    <tr style=\"text-align: right;\">\n",
       "      <th></th>\n",
       "      <th>text</th>\n",
       "      <th>label</th>\n",
       "      <th>domain</th>\n",
       "    </tr>\n",
       "  </thead>\n",
       "  <tbody>\n",
       "    <tr>\n",
       "      <th>0</th>\n",
       "      <td>&lt;review&gt; &lt;unique_id&gt; 0785758968:one_of_the_bes...</td>\n",
       "      <td>1</td>\n",
       "      <td>books</td>\n",
       "    </tr>\n",
       "    <tr>\n",
       "      <th>1</th>\n",
       "      <td>The story revolves around a man named Norman J...</td>\n",
       "      <td>1</td>\n",
       "      <td>books</td>\n",
       "    </tr>\n",
       "    <tr>\n",
       "      <th>2</th>\n",
       "      <td>This novel does not have the research that som...</td>\n",
       "      <td>1</td>\n",
       "      <td>books</td>\n",
       "    </tr>\n",
       "    <tr>\n",
       "      <th>3</th>\n",
       "      <td>I would strongly recommend this book &lt;/review_...</td>\n",
       "      <td>1</td>\n",
       "      <td>books</td>\n",
       "    </tr>\n",
       "    <tr>\n",
       "      <th>4</th>\n",
       "      <td>&lt;/helpful&gt; &lt;rating&gt; 5.0 &lt;/rating&gt; &lt;title&gt; Beau...</td>\n",
       "      <td>1</td>\n",
       "      <td>books</td>\n",
       "    </tr>\n",
       "    <tr>\n",
       "      <th>5</th>\n",
       "      <td>This book packs the punch of great fiction. It...</td>\n",
       "      <td>1</td>\n",
       "      <td>books</td>\n",
       "    </tr>\n",
       "    <tr>\n",
       "      <th>6</th>\n",
       "      <td>Jared Diamond places a very strong emphasis on...</td>\n",
       "      <td>1</td>\n",
       "      <td>books</td>\n",
       "    </tr>\n",
       "    <tr>\n",
       "      <th>7</th>\n",
       "      <td>If you don't know a lot about history or how p...</td>\n",
       "      <td>1</td>\n",
       "      <td>books</td>\n",
       "    </tr>\n",
       "    <tr>\n",
       "      <th>8</th>\n",
       "      <td>In short, this book magnificently illuminates ...</td>\n",
       "      <td>1</td>\n",
       "      <td>books</td>\n",
       "    </tr>\n",
       "    <tr>\n",
       "      <th>9</th>\n",
       "      <td>&lt;/helpful&gt; &lt;rating&gt; 5.0 &lt;/rating&gt; &lt;title&gt; Beau...</td>\n",
       "      <td>1</td>\n",
       "      <td>books</td>\n",
       "    </tr>\n",
       "  </tbody>\n",
       "</table>\n",
       "</div>\n",
       "    <div class=\"colab-df-buttons\">\n",
       "\n",
       "  <div class=\"colab-df-container\">\n",
       "    <button class=\"colab-df-convert\" onclick=\"convertToInteractive('df-0a2da8dd-a2de-45f4-b2a6-8e8aa33ff668')\"\n",
       "            title=\"Convert this dataframe to an interactive table.\"\n",
       "            style=\"display:none;\">\n",
       "\n",
       "  <svg xmlns=\"http://www.w3.org/2000/svg\" height=\"24px\" viewBox=\"0 -960 960 960\">\n",
       "    <path d=\"M120-120v-720h720v720H120Zm60-500h600v-160H180v160Zm220 220h160v-160H400v160Zm0 220h160v-160H400v160ZM180-400h160v-160H180v160Zm440 0h160v-160H620v160ZM180-180h160v-160H180v160Zm440 0h160v-160H620v160Z\"/>\n",
       "  </svg>\n",
       "    </button>\n",
       "\n",
       "  <style>\n",
       "    .colab-df-container {\n",
       "      display:flex;\n",
       "      gap: 12px;\n",
       "    }\n",
       "\n",
       "    .colab-df-convert {\n",
       "      background-color: #E8F0FE;\n",
       "      border: none;\n",
       "      border-radius: 50%;\n",
       "      cursor: pointer;\n",
       "      display: none;\n",
       "      fill: #1967D2;\n",
       "      height: 32px;\n",
       "      padding: 0 0 0 0;\n",
       "      width: 32px;\n",
       "    }\n",
       "\n",
       "    .colab-df-convert:hover {\n",
       "      background-color: #E2EBFA;\n",
       "      box-shadow: 0px 1px 2px rgba(60, 64, 67, 0.3), 0px 1px 3px 1px rgba(60, 64, 67, 0.15);\n",
       "      fill: #174EA6;\n",
       "    }\n",
       "\n",
       "    .colab-df-buttons div {\n",
       "      margin-bottom: 4px;\n",
       "    }\n",
       "\n",
       "    [theme=dark] .colab-df-convert {\n",
       "      background-color: #3B4455;\n",
       "      fill: #D2E3FC;\n",
       "    }\n",
       "\n",
       "    [theme=dark] .colab-df-convert:hover {\n",
       "      background-color: #434B5C;\n",
       "      box-shadow: 0px 1px 3px 1px rgba(0, 0, 0, 0.15);\n",
       "      filter: drop-shadow(0px 1px 2px rgba(0, 0, 0, 0.3));\n",
       "      fill: #FFFFFF;\n",
       "    }\n",
       "  </style>\n",
       "\n",
       "    <script>\n",
       "      const buttonEl =\n",
       "        document.querySelector('#df-0a2da8dd-a2de-45f4-b2a6-8e8aa33ff668 button.colab-df-convert');\n",
       "      buttonEl.style.display =\n",
       "        google.colab.kernel.accessAllowed ? 'block' : 'none';\n",
       "\n",
       "      async function convertToInteractive(key) {\n",
       "        const element = document.querySelector('#df-0a2da8dd-a2de-45f4-b2a6-8e8aa33ff668');\n",
       "        const dataTable =\n",
       "          await google.colab.kernel.invokeFunction('convertToInteractive',\n",
       "                                                    [key], {});\n",
       "        if (!dataTable) return;\n",
       "\n",
       "        const docLinkHtml = 'Like what you see? Visit the ' +\n",
       "          '<a target=\"_blank\" href=https://colab.research.google.com/notebooks/data_table.ipynb>data table notebook</a>'\n",
       "          + ' to learn more about interactive tables.';\n",
       "        element.innerHTML = '';\n",
       "        dataTable['output_type'] = 'display_data';\n",
       "        await google.colab.output.renderOutput(dataTable, element);\n",
       "        const docLink = document.createElement('div');\n",
       "        docLink.innerHTML = docLinkHtml;\n",
       "        element.appendChild(docLink);\n",
       "      }\n",
       "    </script>\n",
       "  </div>\n",
       "\n",
       "\n",
       "    <div id=\"df-a872f13f-ea01-46fb-9803-521ed3289dec\">\n",
       "      <button class=\"colab-df-quickchart\" onclick=\"quickchart('df-a872f13f-ea01-46fb-9803-521ed3289dec')\"\n",
       "                title=\"Suggest charts\"\n",
       "                style=\"display:none;\">\n",
       "\n",
       "<svg xmlns=\"http://www.w3.org/2000/svg\" height=\"24px\"viewBox=\"0 0 24 24\"\n",
       "     width=\"24px\">\n",
       "    <g>\n",
       "        <path d=\"M19 3H5c-1.1 0-2 .9-2 2v14c0 1.1.9 2 2 2h14c1.1 0 2-.9 2-2V5c0-1.1-.9-2-2-2zM9 17H7v-7h2v7zm4 0h-2V7h2v10zm4 0h-2v-4h2v4z\"/>\n",
       "    </g>\n",
       "</svg>\n",
       "      </button>\n",
       "\n",
       "<style>\n",
       "  .colab-df-quickchart {\n",
       "      --bg-color: #E8F0FE;\n",
       "      --fill-color: #1967D2;\n",
       "      --hover-bg-color: #E2EBFA;\n",
       "      --hover-fill-color: #174EA6;\n",
       "      --disabled-fill-color: #AAA;\n",
       "      --disabled-bg-color: #DDD;\n",
       "  }\n",
       "\n",
       "  [theme=dark] .colab-df-quickchart {\n",
       "      --bg-color: #3B4455;\n",
       "      --fill-color: #D2E3FC;\n",
       "      --hover-bg-color: #434B5C;\n",
       "      --hover-fill-color: #FFFFFF;\n",
       "      --disabled-bg-color: #3B4455;\n",
       "      --disabled-fill-color: #666;\n",
       "  }\n",
       "\n",
       "  .colab-df-quickchart {\n",
       "    background-color: var(--bg-color);\n",
       "    border: none;\n",
       "    border-radius: 50%;\n",
       "    cursor: pointer;\n",
       "    display: none;\n",
       "    fill: var(--fill-color);\n",
       "    height: 32px;\n",
       "    padding: 0;\n",
       "    width: 32px;\n",
       "  }\n",
       "\n",
       "  .colab-df-quickchart:hover {\n",
       "    background-color: var(--hover-bg-color);\n",
       "    box-shadow: 0 1px 2px rgba(60, 64, 67, 0.3), 0 1px 3px 1px rgba(60, 64, 67, 0.15);\n",
       "    fill: var(--button-hover-fill-color);\n",
       "  }\n",
       "\n",
       "  .colab-df-quickchart-complete:disabled,\n",
       "  .colab-df-quickchart-complete:disabled:hover {\n",
       "    background-color: var(--disabled-bg-color);\n",
       "    fill: var(--disabled-fill-color);\n",
       "    box-shadow: none;\n",
       "  }\n",
       "\n",
       "  .colab-df-spinner {\n",
       "    border: 2px solid var(--fill-color);\n",
       "    border-color: transparent;\n",
       "    border-bottom-color: var(--fill-color);\n",
       "    animation:\n",
       "      spin 1s steps(1) infinite;\n",
       "  }\n",
       "\n",
       "  @keyframes spin {\n",
       "    0% {\n",
       "      border-color: transparent;\n",
       "      border-bottom-color: var(--fill-color);\n",
       "      border-left-color: var(--fill-color);\n",
       "    }\n",
       "    20% {\n",
       "      border-color: transparent;\n",
       "      border-left-color: var(--fill-color);\n",
       "      border-top-color: var(--fill-color);\n",
       "    }\n",
       "    30% {\n",
       "      border-color: transparent;\n",
       "      border-left-color: var(--fill-color);\n",
       "      border-top-color: var(--fill-color);\n",
       "      border-right-color: var(--fill-color);\n",
       "    }\n",
       "    40% {\n",
       "      border-color: transparent;\n",
       "      border-right-color: var(--fill-color);\n",
       "      border-top-color: var(--fill-color);\n",
       "    }\n",
       "    60% {\n",
       "      border-color: transparent;\n",
       "      border-right-color: var(--fill-color);\n",
       "    }\n",
       "    80% {\n",
       "      border-color: transparent;\n",
       "      border-right-color: var(--fill-color);\n",
       "      border-bottom-color: var(--fill-color);\n",
       "    }\n",
       "    90% {\n",
       "      border-color: transparent;\n",
       "      border-bottom-color: var(--fill-color);\n",
       "    }\n",
       "  }\n",
       "</style>\n",
       "\n",
       "      <script>\n",
       "        async function quickchart(key) {\n",
       "          const quickchartButtonEl =\n",
       "            document.querySelector('#' + key + ' button');\n",
       "          quickchartButtonEl.disabled = true;  // To prevent multiple clicks.\n",
       "          quickchartButtonEl.classList.add('colab-df-spinner');\n",
       "          try {\n",
       "            const charts = await google.colab.kernel.invokeFunction(\n",
       "                'suggestCharts', [key], {});\n",
       "          } catch (error) {\n",
       "            console.error('Error during call to suggestCharts:', error);\n",
       "          }\n",
       "          quickchartButtonEl.classList.remove('colab-df-spinner');\n",
       "          quickchartButtonEl.classList.add('colab-df-quickchart-complete');\n",
       "        }\n",
       "        (() => {\n",
       "          let quickchartButtonEl =\n",
       "            document.querySelector('#df-a872f13f-ea01-46fb-9803-521ed3289dec button');\n",
       "          quickchartButtonEl.style.display =\n",
       "            google.colab.kernel.accessAllowed ? 'block' : 'none';\n",
       "        })();\n",
       "      </script>\n",
       "    </div>\n",
       "\n",
       "    </div>\n",
       "  </div>\n"
      ],
      "text/plain": [
       "                                                text  label domain\n",
       "0  <review> <unique_id> 0785758968:one_of_the_bes...      1  books\n",
       "1  The story revolves around a man named Norman J...      1  books\n",
       "2  This novel does not have the research that som...      1  books\n",
       "3  I would strongly recommend this book </review_...      1  books\n",
       "4  </helpful> <rating> 5.0 </rating> <title> Beau...      1  books\n",
       "5  This book packs the punch of great fiction. It...      1  books\n",
       "6  Jared Diamond places a very strong emphasis on...      1  books\n",
       "7  If you don't know a lot about history or how p...      1  books\n",
       "8  In short, this book magnificently illuminates ...      1  books\n",
       "9  </helpful> <rating> 5.0 </rating> <title> Beau...      1  books"
      ]
     },
     "execution_count": 42,
     "metadata": {},
     "output_type": "execute_result"
    }
   ],
   "source": [
    "df = dataset.load_multi_domain_dataframe(root_dir, include_unlabeled=False)\n",
    "df.head(10)"
   ]
  },
  {
   "cell_type": "code",
   "execution_count": 43,
   "metadata": {
    "colab": {
     "base_uri": "https://localhost:8080/",
     "height": 178
    },
    "executionInfo": {
     "elapsed": 103,
     "status": "ok",
     "timestamp": 1756012048902,
     "user": {
      "displayName": "Md. Arifuzzaman Munaf",
      "userId": "05714721125718487051"
     },
     "user_tz": -600
    },
    "id": "cFzgg2G1SGSf",
    "outputId": "d212e029-06e7-49eb-a37d-f54063742250"
   },
   "outputs": [
    {
     "data": {
      "text/html": [
       "<div>\n",
       "<style scoped>\n",
       "    .dataframe tbody tr th:only-of-type {\n",
       "        vertical-align: middle;\n",
       "    }\n",
       "\n",
       "    .dataframe tbody tr th {\n",
       "        vertical-align: top;\n",
       "    }\n",
       "\n",
       "    .dataframe thead th {\n",
       "        text-align: right;\n",
       "    }\n",
       "</style>\n",
       "<table border=\"1\" class=\"dataframe\">\n",
       "  <thead>\n",
       "    <tr style=\"text-align: right;\">\n",
       "      <th></th>\n",
       "      <th>count</th>\n",
       "    </tr>\n",
       "    <tr>\n",
       "      <th>label</th>\n",
       "      <th></th>\n",
       "    </tr>\n",
       "  </thead>\n",
       "  <tbody>\n",
       "    <tr>\n",
       "      <th>1</th>\n",
       "      <td>5705</td>\n",
       "    </tr>\n",
       "    <tr>\n",
       "      <th>0</th>\n",
       "      <td>5098</td>\n",
       "    </tr>\n",
       "  </tbody>\n",
       "</table>\n",
       "</div><br><label><b>dtype:</b> int64</label>"
      ],
      "text/plain": [
       "label\n",
       "1    5705\n",
       "0    5098\n",
       "Name: count, dtype: int64"
      ]
     },
     "execution_count": 43,
     "metadata": {},
     "output_type": "execute_result"
    }
   ],
   "source": [
    "df['label'].value_counts()"
   ]
  },
  {
   "cell_type": "code",
   "execution_count": 44,
   "metadata": {
    "colab": {
     "base_uri": "https://localhost:8080/",
     "height": 604
    },
    "executionInfo": {
     "elapsed": 272,
     "status": "ok",
     "timestamp": 1756012049173,
     "user": {
      "displayName": "Md. Arifuzzaman Munaf",
      "userId": "05714721125718487051"
     },
     "user_tz": -600
    },
    "id": "YeZKTVD8PE3M",
    "outputId": "e4be2546-ab29-4320-94bb-19cc4d7a3dc0"
   },
   "outputs": [
    {
     "data": {
      "image/png": "[encoded data removed]",
      "text/plain": [
       "<Figure size 600x600 with 1 Axes>"
      ]
     },
     "metadata": {},
     "output_type": "display_data"
    }
   ],
   "source": [
    "from src import explore\n",
    "\n",
    "df_labels = df['label']\n",
    "explore.plot_label_distribution(df_labels, \"Full\")"
   ]
  },
  {
   "cell_type": "markdown",
   "metadata": {
    "id": "Nb2YibvfMdIL"
   },
   "source": [
    "The dataset exhibits a relatively balanced distribution of sentiment classes, with 5,705 positive reviews and 5,098 negative reviews. This slight class imbalance favors positive reviews, but the difference is small enough that it should not pose a significant challenge for most classification models. Such balance is advantageous, as it reduces the likelihood of biased predictions and supports robust training and evaluation of sentiment analysis models."
   ]
  },
  {
   "cell_type": "markdown",
   "metadata": {
    "id": "_Tfh6bk8bAk0"
   },
   "source": [
    "# 3. Data Preparation"
   ]
  },
  {
   "cell_type": "code",
   "execution_count": 45,
   "metadata": {
    "colab": {
     "base_uri": "https://localhost:8080/"
    },
    "executionInfo": {
     "elapsed": 87,
     "status": "ok",
     "timestamp": 1756012049261,
     "user": {
      "displayName": "Md. Arifuzzaman Munaf",
      "userId": "05714721125718487051"
     },
     "user_tz": -600
    },
    "id": "7T0OEF2qapf9",
    "outputId": "44b300cf-67b7-428c-8149-5e534fe8b1ec"
   },
   "outputs": [
    {
     "name": "stdout",
     "output_type": "stream",
     "text": [
      "Training Dataset has 8642 rows and 3 columns\n",
      "Testing Dataset has 2161 rows and 3 columns\n"
     ]
    }
   ],
   "source": [
    "import utils\n",
    "\n",
    "train_df, test_df = utils.split_dataset(df, test_size=0.2)\n",
    "\n",
    "utils.print_shape(train_df, \"Training\")\n",
    "utils.print_shape(test_df, \"Testing\")"
   ]
  },
  {
   "cell_type": "code",
   "execution_count": 46,
   "metadata": {
    "colab": {
     "base_uri": "https://localhost:8080/",
     "height": 1000
    },
    "executionInfo": {
     "elapsed": 446,
     "status": "ok",
     "timestamp": 1756012049665,
     "user": {
      "displayName": "Md. Arifuzzaman Munaf",
      "userId": "05714721125718487051"
     },
     "user_tz": -600
    },
    "id": "dP2VKW4icdG7",
    "outputId": "18003373-c700-4953-c3b5-e17d2cd3c452"
   },
   "outputs": [
    {
     "data": {
      "image/png": "[encoded data removed]",
      "text/plain": [
       "<Figure size 600x600 with 1 Axes>"
      ]
     },
     "metadata": {},
     "output_type": "display_data"
    },
    {
     "data": {
      "image/png": "[encoded data removed]",
      "text/plain": [
       "<Figure size 600x600 with 1 Axes>"
      ]
     },
     "metadata": {},
     "output_type": "display_data"
    }
   ],
   "source": [
    "explore.plot_label_distribution(train_df['label'], \"Training\")\n",
    "explore.plot_label_distribution(test_df['label'], \"Testing\")"
   ]
  },
  {
   "cell_type": "markdown",
   "metadata": {
    "id": "Lan1Q1M5Nr10"
   },
   "source": [
    "The dataset has been divided into training and testing subsets with a relatively balanced label distribution using 'stratify' on label across both sets. In the training set, there are 4,564 positive examples and 4,078 negative examples, while the testing set contains 1,141 positive examples and 1,020 negative examples. Although there are slightly more positive reviews in both splits, the difference is modest, ensuring that models trained on this data will not be heavily biased toward a single class. This balance between positive and negative labels in both training and testing partitions makes the dataset well-suited for building and evaluating robust sentiment classification models."
   ]
  },
  {
   "cell_type": "markdown",
   "metadata": {
    "id": "n4Q0vlj2h2d7"
   },
   "source": [
    "# 3.1 Remove HTML Tags"
   ]
  },
  {
   "cell_type": "code",
   "execution_count": 47,
   "metadata": {
    "colab": {
     "base_uri": "https://localhost:8080/"
    },
    "executionInfo": {
     "elapsed": 102,
     "status": "ok",
     "timestamp": 1756012049767,
     "user": {
      "displayName": "Md. Arifuzzaman Munaf",
      "userId": "05714721125718487051"
     },
     "user_tz": -600
    },
    "id": "4HzpralShxWe",
    "outputId": "5ad4fb8f-ddce-410e-88a9-228dfcce4b93"
   },
   "outputs": [
    {
     "name": "stdout",
     "output_type": "stream",
     "text": [
      "[Training] Total rows: 8642\n",
      "[Training] Rows with HTML tags: 4275\n",
      "\n",
      "Sample 5 rows with HTML tags in [Training]:\n",
      "                                                                                                                                                                                                         text  \\\n",
      "5306  The strong point of this novel is the humor employed by Neil Gaiman.  On par with Douglas Adams, the author of Anasi Boys fills the pages with quirky, pop-culture laden humor.  The main character,...   \n",
      "5007  </helpful> <rating> 4.0 </rating> <title> Magnificant </title> <date> November 4, 2006 </date> <reviewer> Angel M. Perez Martinez </reviewer> <reviewer_location> PR & Spain </reviewer_location> <r...   \n",
      "8688  I had expected a \"straight\" tale similar to the Alienist.  Then when I discovered it was a humorous take on the police procedural I perked up.  It was only after the 100th hyperbole and cutesy 20t...   \n",
      "494   Overall 4/5 for Survivor Series 2002. Worth buying </review_text> </review> <review> <unique_id> B0002CTSUO:unique:t_dot_\"t\" </unique_id> <asin> B0002CTSUO </asin> <product_name> Graffiti Bridge: ...   \n",
      "6020  </review_text> </review> <review> <unique_id> B0001KL5HQ:loved_this_dvd!_:elisa_garza </unique_id> <asin> B0001KL5HQ </asin> <product_name> The Kids in the Hall - Complete Season 1 (1989-1990): DV...   \n",
      "\n",
      "      html_tag_count  \n",
      "5306              48  \n",
      "5007              36  \n",
      "8688              24  \n",
      "494               12  \n",
      "6020              46  \n"
     ]
    }
   ],
   "source": [
    "from src import preprocess\n",
    "\n",
    "preprocess.check_html_count(train_df, \"text\", \"Training\")"
   ]
  },
  {
   "cell_type": "code",
   "execution_count": 48,
   "metadata": {
    "colab": {
     "base_uri": "https://localhost:8080/",
     "height": 414
    },
    "executionInfo": {
     "elapsed": 891,
     "status": "ok",
     "timestamp": 1756012050659,
     "user": {
      "displayName": "Md. Arifuzzaman Munaf",
      "userId": "05714721125718487051"
     },
     "user_tz": -600
    },
    "id": "2_dE1ZvRqgrA",
    "outputId": "6c5ace4b-38a1-4021-edfa-6f6ff207cfcb"
   },
   "outputs": [
    {
     "name": "stdout",
     "output_type": "stream",
     "text": [
      "Removed HTML tags from [Training] data. Cleaned column: 'text'.\n",
      "[Training] Total rows: 8642\n",
      "[Training] Rows with HTML tags: 0\n",
      "\n",
      "Sample 0 rows with HTML tags in [Training]:\n",
      "Empty DataFrame\n",
      "Columns: [text, html_tag_count]\n",
      "Index: []\n",
      "--------------------------------------------------\n",
      "Training Dataset has 8642 rows and 3 columns\n"
     ]
    },
    {
     "data": {
      "text/html": [
       "<div>\n",
       "<style scoped>\n",
       "    .dataframe tbody tr th:only-of-type {\n",
       "        vertical-align: middle;\n",
       "    }\n",
       "\n",
       "    .dataframe tbody tr th {\n",
       "        vertical-align: top;\n",
       "    }\n",
       "\n",
       "    .dataframe thead th {\n",
       "        text-align: right;\n",
       "    }\n",
       "</style>\n",
       "<table border=\"1\" class=\"dataframe\">\n",
       "  <thead>\n",
       "    <tr style=\"text-align: right;\">\n",
       "      <th></th>\n",
       "      <th>text</th>\n",
       "    </tr>\n",
       "  </thead>\n",
       "  <tbody>\n",
       "    <tr>\n",
       "      <th>4421</th>\n",
       "      <td>5.0 One of my favorite movies... April 4, 2006...</td>\n",
       "    </tr>\n",
       "    <tr>\n",
       "      <th>720</th>\n",
       "      <td>Otherwise, it works B00005Q4OD:foodsaver_canni...</td>\n",
       "    </tr>\n",
       "    <tr>\n",
       "      <th>3381</th>\n",
       "      <td>Studio 54, and the Disco Era in general were a...</td>\n",
       "    </tr>\n",
       "    <tr>\n",
       "      <th>282</th>\n",
       "      <td>141430725X:you're_advocating_illegal_acts.:dia...</td>\n",
       "    </tr>\n",
       "    <tr>\n",
       "      <th>1958</th>\n",
       "      <td>You should know something about a subject befo...</td>\n",
       "    </tr>\n",
       "  </tbody>\n",
       "</table>\n",
       "</div><br><label><b>dtype:</b> object</label>"
      ],
      "text/plain": [
       "4421    5.0 One of my favorite movies... April 4, 2006...\n",
       "720     Otherwise, it works B00005Q4OD:foodsaver_canni...\n",
       "3381    Studio 54, and the Disco Era in general were a...\n",
       "282     141430725X:you're_advocating_illegal_acts.:dia...\n",
       "1958    You should know something about a subject befo...\n",
       "Name: text, dtype: object"
      ]
     },
     "execution_count": 48,
     "metadata": {},
     "output_type": "execute_result"
    }
   ],
   "source": [
    "train_df = preprocess.remove_html(train_df, \"text\", \"Training\", inplace=True)\n",
    "preprocess.check_html_count(train_df, \"text\", \"Training\")\n",
    "\n",
    "print(\"-\" * 50)\n",
    "\n",
    "utils.print_shape(train_df, \"Training\")\n",
    "train_df.sample(5)[\"text\"]"
   ]
  },
  {
   "cell_type": "code",
   "execution_count": 49,
   "metadata": {
    "colab": {
     "base_uri": "https://localhost:8080/"
    },
    "executionInfo": {
     "elapsed": 175,
     "status": "ok",
     "timestamp": 1756012050835,
     "user": {
      "displayName": "Md. Arifuzzaman Munaf",
      "userId": "05714721125718487051"
     },
     "user_tz": -600
    },
    "id": "SOtVwXwftZBU",
    "outputId": "75dac2c1-3b68-43cf-af25-ee718ea61082"
   },
   "outputs": [
    {
     "name": "stdout",
     "output_type": "stream",
     "text": [
      "[Testing] Total rows: 2161\n",
      "[Testing] Rows with HTML tags: 1046\n",
      "\n",
      "Sample 5 rows with HTML tags in [Testing]:\n",
      "                                                                                                                                                                                                          text  \\\n",
      "5832   </helpful> <rating> 5.0 </rating> <title> Great product! </title> <date> September 1, 2006 </date> <reviewer> Firas Alragom </reviewer> <reviewer_location> Kuwait </reviewer_location> <review_text...   \n",
      "1032   But this sequel was too into clothes and the finer things, and full of too-successful, too-beautiful men and women. Not believable. </review_text> </review> <review> <unique_id> 006440966X:dragged...   \n",
      "3043   It all works as advertised.  The only minor glitch I have had, is that when you first try to start a recording, it gives a \"media full\" message, even tho the media is empty.  Then you select recor...   \n",
      "10422  </helpful> <rating> 5.0 </rating> <title> Movie about the biggest Hungarian </title> <date> August 1, 2005 </date> <reviewer> G. Szekely </reviewer> <reviewer_location> Debrecen, Hungary </reviewe...   \n",
      "6933   </reviewer_location> <review_text> I dislike ipods so i figure I try something else and hope for the best..Unfortunately I was wrong Itunes and Ipods are definitely much better.. Basically this de...   \n",
      "\n",
      "       html_tag_count  \n",
      "5832               48  \n",
      "1032               22  \n",
      "3043               12  \n",
      "10422              36  \n",
      "6933                2  \n"
     ]
    }
   ],
   "source": [
    "preprocess.check_html_count(test_df, \"text\", \"Testing\")"
   ]
  },
  {
   "cell_type": "code",
   "execution_count": 50,
   "metadata": {
    "colab": {
     "base_uri": "https://localhost:8080/",
     "height": 414
    },
    "executionInfo": {
     "elapsed": 598,
     "status": "ok",
     "timestamp": 1756012051434,
     "user": {
      "displayName": "Md. Arifuzzaman Munaf",
      "userId": "05714721125718487051"
     },
     "user_tz": -600
    },
    "id": "GnSUj4aitjXC",
    "outputId": "d7a511e5-d089-4a64-f615-a6a4f0635850"
   },
   "outputs": [
    {
     "name": "stdout",
     "output_type": "stream",
     "text": [
      "Removed HTML tags from [Testing] data. Cleaned column: 'text'.\n",
      "[Testing] Total rows: 2161\n",
      "[Testing] Rows with HTML tags: 0\n",
      "\n",
      "Sample 0 rows with HTML tags in [Testing]:\n",
      "Empty DataFrame\n",
      "Columns: [text, html_tag_count]\n",
      "Index: []\n",
      "--------------------------------------------------\n",
      "Testing Dataset has 2161 rows and 3 columns\n"
     ]
    },
    {
     "data": {
      "text/html": [
       "<div>\n",
       "<style scoped>\n",
       "    .dataframe tbody tr th:only-of-type {\n",
       "        vertical-align: middle;\n",
       "    }\n",
       "\n",
       "    .dataframe tbody tr th {\n",
       "        vertical-align: top;\n",
       "    }\n",
       "\n",
       "    .dataframe thead th {\n",
       "        text-align: right;\n",
       "    }\n",
       "</style>\n",
       "<table border=\"1\" class=\"dataframe\">\n",
       "  <thead>\n",
       "    <tr style=\"text-align: right;\">\n",
       "      <th></th>\n",
       "      <th>text</th>\n",
       "    </tr>\n",
       "  </thead>\n",
       "  <tbody>\n",
       "    <tr>\n",
       "      <th>5203</th>\n",
       "      <td>\"Requiem For A Dream\" isn't helped any by Darr...</td>\n",
       "    </tr>\n",
       "    <tr>\n",
       "      <th>2951</th>\n",
       "      <td>5.0 Fun for kids and parents November 13, 2006...</td>\n",
       "    </tr>\n",
       "    <tr>\n",
       "      <th>2061</th>\n",
       "      <td>There are a few laugh-out-loud moments that I ...</td>\n",
       "    </tr>\n",
       "    <tr>\n",
       "      <th>8925</th>\n",
       "      <td>19. A dream of an oasis -- this episode takes ...</td>\n",
       "    </tr>\n",
       "    <tr>\n",
       "      <th>5942</th>\n",
       "      <td>I did the Atkins diet and honestly have not st...</td>\n",
       "    </tr>\n",
       "  </tbody>\n",
       "</table>\n",
       "</div><br><label><b>dtype:</b> object</label>"
      ],
      "text/plain": [
       "5203    \"Requiem For A Dream\" isn't helped any by Darr...\n",
       "2951    5.0 Fun for kids and parents November 13, 2006...\n",
       "2061    There are a few laugh-out-loud moments that I ...\n",
       "8925    19. A dream of an oasis -- this episode takes ...\n",
       "5942    I did the Atkins diet and honestly have not st...\n",
       "Name: text, dtype: object"
      ]
     },
     "execution_count": 50,
     "metadata": {},
     "output_type": "execute_result"
    }
   ],
   "source": [
    "test_df = preprocess.remove_html(test_df, \"text\", \"Testing\", inplace=True)\n",
    "preprocess.check_html_count(test_df, \"text\", \"Testing\")\n",
    "\n",
    "print(\"-\" * 50)\n",
    "\n",
    "utils.print_shape(test_df, \"Testing\")\n",
    "test_df.sample(5)[\"text\"]"
   ]
  },
  {
   "cell_type": "markdown",
   "metadata": {
    "id": "br5OTcUHPCc5"
   },
   "source": [
    "The preprocessing results show that both the training and testing datasets initially contained a substantial number of rows with embedded HTML tags. In the training set, out of 8,642 rows, 4,275 contained HTML elements, while in the testing set, 1,046 of 2,161 rows were affected. After cleaning, all HTML tags were successfully removed, leaving clean text-only data in both sets. The cleaned training dataset now has 8,642 rows, and the testing dataset has 2,161 rows, each represented in a structured format with three columns (including the processed text column). This ensures that the data is free from markup noise and ready for further natural language processing and sentiment analysis tasks."
   ]
  },
  {
   "cell_type": "markdown",
   "metadata": {
    "id": "hTvev0qtgLDI"
   },
   "source": [
    "# 3.2 Remove Urls"
   ]
  },
  {
   "cell_type": "code",
   "execution_count": 51,
   "metadata": {
    "colab": {
     "base_uri": "https://localhost:8080/"
    },
    "executionInfo": {
     "elapsed": 94,
     "status": "ok",
     "timestamp": 1756012051530,
     "user": {
      "displayName": "Md. Arifuzzaman Munaf",
      "userId": "05714721125718487051"
     },
     "user_tz": -600
    },
    "id": "s_94BDhhfuAm",
    "outputId": "8ead2cbf-3228-46b5-b48c-5ffaa2b6aacc"
   },
   "outputs": [
    {
     "name": "stdout",
     "output_type": "stream",
     "text": [
      "Number of URLs in Training data: 0\n",
      "Samples texts containing URLs in Training data:\n",
      "No URLs found\n"
     ]
    }
   ],
   "source": [
    "preprocess.count_urls(train_df, \"label\", \"Training\")"
   ]
  },
  {
   "cell_type": "code",
   "execution_count": 52,
   "metadata": {
    "colab": {
     "base_uri": "https://localhost:8080/"
    },
    "executionInfo": {
     "elapsed": 113,
     "status": "ok",
     "timestamp": 1756012051648,
     "user": {
      "displayName": "Md. Arifuzzaman Munaf",
      "userId": "05714721125718487051"
     },
     "user_tz": -600
    },
    "id": "9pqi27Hjt2_0",
    "outputId": "f9a648d1-15a9-425c-9879-bde5896c1563"
   },
   "outputs": [
    {
     "name": "stdout",
     "output_type": "stream",
     "text": [
      "Number of URLs in Testing data: 0\n",
      "Samples texts containing URLs in Testing data:\n",
      "No URLs found\n"
     ]
    }
   ],
   "source": [
    "preprocess.count_urls(test_df, \"label\", \"Testing\")"
   ]
  },
  {
   "cell_type": "markdown",
   "metadata": {
    "id": "Q9XH3gfLPbuL"
   },
   "source": [
    "The dataset revealed that no URLs were present in either the training or testing data. The inspection confirmed that the number of URLs detected was zero across both subsets, and no text samples contained embedded links. This indicates that URL removal is unnecessary for this dataset, ensuring the textual content remains clean and consistent for further preprocessing and model training."
   ]
  },
  {
   "cell_type": "markdown",
   "metadata": {
    "id": "JDN2U9p9xKJn"
   },
   "source": [
    "# 3.3 Standardize Text: Contractions, Informal Expressions, and Acronyms\n",
    "\n",
    "The Multi-Domain Sentiment Dataset, which consists of Amazon product reviews, contains informal writing patterns such as contractions (e.g., “won’t”, “can’t”), colloquial terms, and occasional abbreviations. These variations can introduce noise and inconsistencies, making it more difficult to achieve accurate sentiment classification (Zhao et al., 2018). To address this, a systematic text standardization process is applied to normalize expressions into their standard forms, thereby improving consistency and interpretability for modeling.\n",
    "\n",
    "This preprocessing step involves four main components:\n",
    "\n",
    "1. Contraction Expansion\n",
    "Contractions are expanded into their full forms using the contractions Python library. For example, “don’t” becomes “do not”, and “can’t” becomes “cannot”.\n",
    "Source: https://pypi.org/project/contractions/\n",
    "\n",
    "2. Informal Term Replacement\n",
    "Occasional informal or slang expressions in the reviews are mapped to formal equivalents using the flashtext library for high-performance keyword replacement. A slang dictionary from an open-source repository is used as the reference.\n",
    "Dictionary source: https://github.com/rishabhverma17/sms_slang_translator/blob/master/slang.txt\n",
    "FlashText library: https://github.com/vi3k6i5/flashtext\n",
    "\n",
    "3. Acronym Expansion\n",
    "Some reviews include acronyms or shorthand notations. These are expanded into their full forms using a curated JSON-based mapping file.\n",
    "Abbreviation dictionary: https://github.com/prajwalkhairnar/abbreviations_py/blob/main/abbreviations_py/textes/abbreviation_mappings.json\n",
    "\n",
    "4. Tokenization\n",
    "Text is tokenized using the TweetTokenizer from the NLTK library, which is robust in handling punctuation, emoticons, and irregular formatting common in user-generated review content.\n",
    "Tokenizer documentation: https://www.nltk.org/api/nltk.tokenize.html#nltk.tokenize.casual.TweetTokenizer\n",
    "\n",
    "All these operations are encapsulated in a custom TextStandardizer class, which applies contraction expansion, slang replacement, and acronym resolution sequentially. The result is a cleaned and standardized version of the review text, ready for downstream sentiment analysis tasks.\n",
    "\n",
    "**Reference** <br>\n",
    "Zhao, J., Gui, X., & Zhang, X. (2018). Deep convolution neural networks for Twitter sentiment analysis. IEEE Access, 6, 23253–23260. https://ieeexplore.ieee.org/stamp/stamp.jsp?tp=&arnumber=8244338"
   ]
  },
  {
   "cell_type": "code",
   "execution_count": 53,
   "metadata": {
    "colab": {
     "base_uri": "https://localhost:8080/",
     "height": 206
    },
    "executionInfo": {
     "elapsed": 15804,
     "status": "ok",
     "timestamp": 1756012067454,
     "user": {
      "displayName": "Md. Arifuzzaman Munaf",
      "userId": "05714721125718487051"
     },
     "user_tz": -600
    },
    "id": "M68ux_P9xQ85",
    "outputId": "ed46ef46-d513-438f-feb3-8c2fd7d72987"
   },
   "outputs": [
    {
     "data": {
      "application/vnd.google.colaboratory.intrinsic+json": {
       "summary": "{\n  \"name\": \"train_df\",\n  \"rows\": 8642,\n  \"fields\": [\n    {\n      \"column\": \"text\",\n      \"properties\": {\n        \"dtype\": \"string\",\n        \"num_unique_values\": 8437,\n        \"samples\": [\n          \"She has a gift in her storytelling for expanding the universe . Read this book . 19336150 95 : an_excellent_first_choice : richard_w . _miller_ \\\" rwmiller 52 \\\" 19336150 95 The Best of America's Test Kitchen 2007 : The Year's Best Recipes , Equipment Reviews , and Tastings ( Best of America's Test Kitchen Cookbook : The Year's Best Recipes ): Books : Editors at America's Test Kitchen books 2 of 2 5.0 An excellent first choice October 16 , 2006 Richard win . Miller \\\" rwmiller 52 \\\" Lafayette , Louisiana United States I fail to understand the complaints of two previous reviewers . This beautiful glossy volume is an excellent compendium of previosly publisned Cook's Illustrated recipes . In style and format it would make an excellent first choice for anyone wishing to be introduced to a selection of the best of the best recipes from America's Teet Kitchen ( i . e . Cook's Illustrated ) without the tediousness of having to wade through lengthy descriptions of how the recipes were arrived at .\",\n          \"Even when I was in high school , I wished that I could take physics before chemistry . Before I was elected as a school board director , I was on our district's Gifted Advisory Council . I made the suggestion that we teach physics before chemistry and , then , biology last . I was immediately shot down by one of the other parents on the basis that sophomores do not have the math courses under their belts to tackle physics . So why not teach the math along with the science ? Integrate it . ( No , that would make it too relevant . )\",\n          \"I enjoyed the first season and got it . Eagerly awaiting season 2 . See it for sale overseas in the UK but not here ? Tough waiting so long ... sigh . I can do other formats besides North America but it is a pain . C'mon guys , I would rather spend the money here . B000DJZ8R : grapes_of_wrath_dvd_vs . _the_book : alex_bhasavanich B000DJZ8R The Grapes of Wrath : DVD : Henry Fonda , Jane Darwell , John Carradine , Charley Grapewin , Dorris Bowdon , Russell Simpson , O . Z . Whitehead , John Qualen , Eddie Quillan , Zeffie Tilbury , Frank Sully , Frank Darien , Darryl Hickman , Shirley Mills , Roger Imhof , Grant Mitchell , Charles D . Brown , John Arledge , Ward Bond , Harry Tyler , John Ford dvd 5 of 6 4.0 Grapes of Wrath DVD Vs . the book October 2 , 2005 Alex Bhasavanich\"\n        ],\n        \"semantic_type\": \"\",\n        \"description\": \"\"\n      }\n    },\n    {\n      \"column\": \"label\",\n      \"properties\": {\n        \"dtype\": \"number\",\n        \"std\": 0,\n        \"min\": 0,\n        \"max\": 1,\n        \"num_unique_values\": 2,\n        \"samples\": [\n          0,\n          1\n        ],\n        \"semantic_type\": \"\",\n        \"description\": \"\"\n      }\n    },\n    {\n      \"column\": \"domain\",\n      \"properties\": {\n        \"dtype\": \"category\",\n        \"num_unique_values\": 4,\n        \"samples\": [\n          \"dvd\",\n          \"electronics\"\n        ],\n        \"semantic_type\": \"\",\n        \"description\": \"\"\n      }\n    }\n  ]\n}",
       "type": "dataframe",
       "variable_name": "train_df"
      },
      "text/html": [
       "\n",
       "  <div id=\"df-b390979f-e9c9-45db-a38b-86d534f5d913\" class=\"colab-df-container\">\n",
       "    <div>\n",
       "<style scoped>\n",
       "    .dataframe tbody tr th:only-of-type {\n",
       "        vertical-align: middle;\n",
       "    }\n",
       "\n",
       "    .dataframe tbody tr th {\n",
       "        vertical-align: top;\n",
       "    }\n",
       "\n",
       "    .dataframe thead th {\n",
       "        text-align: right;\n",
       "    }\n",
       "</style>\n",
       "<table border=\"1\" class=\"dataframe\">\n",
       "  <thead>\n",
       "    <tr style=\"text-align: right;\">\n",
       "      <th></th>\n",
       "      <th>text</th>\n",
       "      <th>label</th>\n",
       "      <th>domain</th>\n",
       "    </tr>\n",
       "  </thead>\n",
       "  <tbody>\n",
       "    <tr>\n",
       "      <th>177</th>\n",
       "      <td>Two supreme court justices are murdered by som...</td>\n",
       "      <td>1</td>\n",
       "      <td>books</td>\n",
       "    </tr>\n",
       "    <tr>\n",
       "      <th>7536</th>\n",
       "      <td>Was not expecting much , but this movie was su...</td>\n",
       "      <td>1</td>\n",
       "      <td>dvd</td>\n",
       "    </tr>\n",
       "    <tr>\n",
       "      <th>6290</th>\n",
       "      <td>Snow WHite and the 3 stooges Greetings The fro...</td>\n",
       "      <td>0</td>\n",
       "      <td>dvd</td>\n",
       "    </tr>\n",
       "    <tr>\n",
       "      <th>8818</th>\n",
       "      <td>And just to add some trivia :</td>\n",
       "      <td>1</td>\n",
       "      <td>dvd</td>\n",
       "    </tr>\n",
       "    <tr>\n",
       "      <th>5306</th>\n",
       "      <td>The strong point of this novel is the humor em...</td>\n",
       "      <td>1</td>\n",
       "      <td>books</td>\n",
       "    </tr>\n",
       "  </tbody>\n",
       "</table>\n",
       "</div>\n",
       "    <div class=\"colab-df-buttons\">\n",
       "\n",
       "  <div class=\"colab-df-container\">\n",
       "    <button class=\"colab-df-convert\" onclick=\"convertToInteractive('df-b390979f-e9c9-45db-a38b-86d534f5d913')\"\n",
       "            title=\"Convert this dataframe to an interactive table.\"\n",
       "            style=\"display:none;\">\n",
       "\n",
       "  <svg xmlns=\"http://www.w3.org/2000/svg\" height=\"24px\" viewBox=\"0 -960 960 960\">\n",
       "    <path d=\"M120-120v-720h720v720H120Zm60-500h600v-160H180v160Zm220 220h160v-160H400v160Zm0 220h160v-160H400v160ZM180-400h160v-160H180v160Zm440 0h160v-160H620v160ZM180-180h160v-160H180v160Zm440 0h160v-160H620v160Z\"/>\n",
       "  </svg>\n",
       "    </button>\n",
       "\n",
       "  <style>\n",
       "    .colab-df-container {\n",
       "      display:flex;\n",
       "      gap: 12px;\n",
       "    }\n",
       "\n",
       "    .colab-df-convert {\n",
       "      background-color: #E8F0FE;\n",
       "      border: none;\n",
       "      border-radius: 50%;\n",
       "      cursor: pointer;\n",
       "      display: none;\n",
       "      fill: #1967D2;\n",
       "      height: 32px;\n",
       "      padding: 0 0 0 0;\n",
       "      width: 32px;\n",
       "    }\n",
       "\n",
       "    .colab-df-convert:hover {\n",
       "      background-color: #E2EBFA;\n",
       "      box-shadow: 0px 1px 2px rgba(60, 64, 67, 0.3), 0px 1px 3px 1px rgba(60, 64, 67, 0.15);\n",
       "      fill: #174EA6;\n",
       "    }\n",
       "\n",
       "    .colab-df-buttons div {\n",
       "      margin-bottom: 4px;\n",
       "    }\n",
       "\n",
       "    [theme=dark] .colab-df-convert {\n",
       "      background-color: #3B4455;\n",
       "      fill: #D2E3FC;\n",
       "    }\n",
       "\n",
       "    [theme=dark] .colab-df-convert:hover {\n",
       "      background-color: #434B5C;\n",
       "      box-shadow: 0px 1px 3px 1px rgba(0, 0, 0, 0.15);\n",
       "      filter: drop-shadow(0px 1px 2px rgba(0, 0, 0, 0.3));\n",
       "      fill: #FFFFFF;\n",
       "    }\n",
       "  </style>\n",
       "\n",
       "    <script>\n",
       "      const buttonEl =\n",
       "        document.querySelector('#df-b390979f-e9c9-45db-a38b-86d534f5d913 button.colab-df-convert');\n",
       "      buttonEl.style.display =\n",
       "        google.colab.kernel.accessAllowed ? 'block' : 'none';\n",
       "\n",
       "      async function convertToInteractive(key) {\n",
       "        const element = document.querySelector('#df-b390979f-e9c9-45db-a38b-86d534f5d913');\n",
       "        const dataTable =\n",
       "          await google.colab.kernel.invokeFunction('convertToInteractive',\n",
       "                                                    [key], {});\n",
       "        if (!dataTable) return;\n",
       "\n",
       "        const docLinkHtml = 'Like what you see? Visit the ' +\n",
       "          '<a target=\"_blank\" href=https://colab.research.google.com/notebooks/data_table.ipynb>data table notebook</a>'\n",
       "          + ' to learn more about interactive tables.';\n",
       "        element.innerHTML = '';\n",
       "        dataTable['output_type'] = 'display_data';\n",
       "        await google.colab.output.renderOutput(dataTable, element);\n",
       "        const docLink = document.createElement('div');\n",
       "        docLink.innerHTML = docLinkHtml;\n",
       "        element.appendChild(docLink);\n",
       "      }\n",
       "    </script>\n",
       "  </div>\n",
       "\n",
       "\n",
       "    <div id=\"df-8dde59e0-5f5e-4a6b-9a12-5f27eabb7070\">\n",
       "      <button class=\"colab-df-quickchart\" onclick=\"quickchart('df-8dde59e0-5f5e-4a6b-9a12-5f27eabb7070')\"\n",
       "                title=\"Suggest charts\"\n",
       "                style=\"display:none;\">\n",
       "\n",
       "<svg xmlns=\"http://www.w3.org/2000/svg\" height=\"24px\"viewBox=\"0 0 24 24\"\n",
       "     width=\"24px\">\n",
       "    <g>\n",
       "        <path d=\"M19 3H5c-1.1 0-2 .9-2 2v14c0 1.1.9 2 2 2h14c1.1 0 2-.9 2-2V5c0-1.1-.9-2-2-2zM9 17H7v-7h2v7zm4 0h-2V7h2v10zm4 0h-2v-4h2v4z\"/>\n",
       "    </g>\n",
       "</svg>\n",
       "      </button>\n",
       "\n",
       "<style>\n",
       "  .colab-df-quickchart {\n",
       "      --bg-color: #E8F0FE;\n",
       "      --fill-color: #1967D2;\n",
       "      --hover-bg-color: #E2EBFA;\n",
       "      --hover-fill-color: #174EA6;\n",
       "      --disabled-fill-color: #AAA;\n",
       "      --disabled-bg-color: #DDD;\n",
       "  }\n",
       "\n",
       "  [theme=dark] .colab-df-quickchart {\n",
       "      --bg-color: #3B4455;\n",
       "      --fill-color: #D2E3FC;\n",
       "      --hover-bg-color: #434B5C;\n",
       "      --hover-fill-color: #FFFFFF;\n",
       "      --disabled-bg-color: #3B4455;\n",
       "      --disabled-fill-color: #666;\n",
       "  }\n",
       "\n",
       "  .colab-df-quickchart {\n",
       "    background-color: var(--bg-color);\n",
       "    border: none;\n",
       "    border-radius: 50%;\n",
       "    cursor: pointer;\n",
       "    display: none;\n",
       "    fill: var(--fill-color);\n",
       "    height: 32px;\n",
       "    padding: 0;\n",
       "    width: 32px;\n",
       "  }\n",
       "\n",
       "  .colab-df-quickchart:hover {\n",
       "    background-color: var(--hover-bg-color);\n",
       "    box-shadow: 0 1px 2px rgba(60, 64, 67, 0.3), 0 1px 3px 1px rgba(60, 64, 67, 0.15);\n",
       "    fill: var(--button-hover-fill-color);\n",
       "  }\n",
       "\n",
       "  .colab-df-quickchart-complete:disabled,\n",
       "  .colab-df-quickchart-complete:disabled:hover {\n",
       "    background-color: var(--disabled-bg-color);\n",
       "    fill: var(--disabled-fill-color);\n",
       "    box-shadow: none;\n",
       "  }\n",
       "\n",
       "  .colab-df-spinner {\n",
       "    border: 2px solid var(--fill-color);\n",
       "    border-color: transparent;\n",
       "    border-bottom-color: var(--fill-color);\n",
       "    animation:\n",
       "      spin 1s steps(1) infinite;\n",
       "  }\n",
       "\n",
       "  @keyframes spin {\n",
       "    0% {\n",
       "      border-color: transparent;\n",
       "      border-bottom-color: var(--fill-color);\n",
       "      border-left-color: var(--fill-color);\n",
       "    }\n",
       "    20% {\n",
       "      border-color: transparent;\n",
       "      border-left-color: var(--fill-color);\n",
       "      border-top-color: var(--fill-color);\n",
       "    }\n",
       "    30% {\n",
       "      border-color: transparent;\n",
       "      border-left-color: var(--fill-color);\n",
       "      border-top-color: var(--fill-color);\n",
       "      border-right-color: var(--fill-color);\n",
       "    }\n",
       "    40% {\n",
       "      border-color: transparent;\n",
       "      border-right-color: var(--fill-color);\n",
       "      border-top-color: var(--fill-color);\n",
       "    }\n",
       "    60% {\n",
       "      border-color: transparent;\n",
       "      border-right-color: var(--fill-color);\n",
       "    }\n",
       "    80% {\n",
       "      border-color: transparent;\n",
       "      border-right-color: var(--fill-color);\n",
       "      border-bottom-color: var(--fill-color);\n",
       "    }\n",
       "    90% {\n",
       "      border-color: transparent;\n",
       "      border-bottom-color: var(--fill-color);\n",
       "    }\n",
       "  }\n",
       "</style>\n",
       "\n",
       "      <script>\n",
       "        async function quickchart(key) {\n",
       "          const quickchartButtonEl =\n",
       "            document.querySelector('#' + key + ' button');\n",
       "          quickchartButtonEl.disabled = true;  // To prevent multiple clicks.\n",
       "          quickchartButtonEl.classList.add('colab-df-spinner');\n",
       "          try {\n",
       "            const charts = await google.colab.kernel.invokeFunction(\n",
       "                'suggestCharts', [key], {});\n",
       "          } catch (error) {\n",
       "            console.error('Error during call to suggestCharts:', error);\n",
       "          }\n",
       "          quickchartButtonEl.classList.remove('colab-df-spinner');\n",
       "          quickchartButtonEl.classList.add('colab-df-quickchart-complete');\n",
       "        }\n",
       "        (() => {\n",
       "          let quickchartButtonEl =\n",
       "            document.querySelector('#df-8dde59e0-5f5e-4a6b-9a12-5f27eabb7070 button');\n",
       "          quickchartButtonEl.style.display =\n",
       "            google.colab.kernel.accessAllowed ? 'block' : 'none';\n",
       "        })();\n",
       "      </script>\n",
       "    </div>\n",
       "\n",
       "    </div>\n",
       "  </div>\n"
      ],
      "text/plain": [
       "                                                   text  label domain\n",
       "177   Two supreme court justices are murdered by som...      1  books\n",
       "7536  Was not expecting much , but this movie was su...      1    dvd\n",
       "6290  Snow WHite and the 3 stooges Greetings The fro...      0    dvd\n",
       "8818                      And just to add some trivia :      1    dvd\n",
       "5306  The strong point of this novel is the humor em...      1  books"
      ]
     },
     "execution_count": 53,
     "metadata": {},
     "output_type": "execute_result"
    }
   ],
   "source": [
    "from src.standarization import TextStandardizer\n",
    "\n",
    "standardizer = TextStandardizer()\n",
    "train_df['text'] = train_df['text'].apply(standardizer.standardize_text)\n",
    "test_df['text'] = test_df['text'].apply(standardizer.standardize_text)\n",
    "train_df.head()"
   ]
  },
  {
   "cell_type": "markdown",
   "metadata": {
    "id": "4is56Ccwy629"
   },
   "source": [
    "# 3.4 Remove Punctuations"
   ]
  },
  {
   "cell_type": "code",
   "execution_count": 54,
   "metadata": {
    "colab": {
     "base_uri": "https://localhost:8080/",
     "height": 669
    },
    "executionInfo": {
     "elapsed": 141,
     "status": "ok",
     "timestamp": 1756012067592,
     "user": {
      "displayName": "Md. Arifuzzaman Munaf",
      "userId": "05714721125718487051"
     },
     "user_tz": -600
    },
    "id": "RS1aBlNZ0xr8",
    "outputId": "35991f00-87f3-4440-b456-e3e039a6c1b5"
   },
   "outputs": [
    {
     "name": "stdout",
     "output_type": "stream",
     "text": [
      "[training] Total rows: 8642\n",
      "[training] Rows containing punctuation: 8464\n",
      "[training] Total punctuation characters: 272982\n",
      "\n",
      "Sample rows with punctuation in [training]:\n",
      "                                                                                                                                                                                                         text\n",
      "177   Two supreme court justices are murdered by someone who does such a good job that there are few if any clues to go on . Darby Shaw and her lover / professor are intrigued by who could have done thi...\n",
      "7536  Was not expecting much , but this movie was surprisingly entertaining . Yes , it was a little violent , and some parts were a tad unbelievable , but overall , Denzel and John were worthy antagonis...\n",
      "6290  Snow WHite and the 3 stooges Greetings The frozen Dead They saved Hitler's brain Black belt Jones TNT Jackson The thing with two heads Howard the Duck Billy the kid vs . Dracula Bela Legosi meets ...\n",
      "8818                                                                                                                                                                            And just to add some trivia :\n",
      "5306  The strong point of this novel is the humor employed by Neil Gaiman . On par with Douglas Adams , the author of Anasi Boys fills the pages with quirky , pop-culture laden humor . The main characte...\n"
     ]
    },
    {
     "data": {
      "text/html": [
       "<div>\n",
       "<style scoped>\n",
       "    .dataframe tbody tr th:only-of-type {\n",
       "        vertical-align: middle;\n",
       "    }\n",
       "\n",
       "    .dataframe tbody tr th {\n",
       "        vertical-align: top;\n",
       "    }\n",
       "\n",
       "    .dataframe thead th {\n",
       "        text-align: right;\n",
       "    }\n",
       "</style>\n",
       "<table border=\"1\" class=\"dataframe\">\n",
       "  <thead>\n",
       "    <tr style=\"text-align: right;\">\n",
       "      <th></th>\n",
       "      <th>text</th>\n",
       "    </tr>\n",
       "  </thead>\n",
       "  <tbody>\n",
       "    <tr>\n",
       "      <th>177</th>\n",
       "      <td>9</td>\n",
       "    </tr>\n",
       "    <tr>\n",
       "      <th>7536</th>\n",
       "      <td>11</td>\n",
       "    </tr>\n",
       "    <tr>\n",
       "      <th>6290</th>\n",
       "      <td>10</td>\n",
       "    </tr>\n",
       "    <tr>\n",
       "      <th>8818</th>\n",
       "      <td>1</td>\n",
       "    </tr>\n",
       "    <tr>\n",
       "      <th>5306</th>\n",
       "      <td>76</td>\n",
       "    </tr>\n",
       "    <tr>\n",
       "      <th>...</th>\n",
       "      <td>...</td>\n",
       "    </tr>\n",
       "    <tr>\n",
       "      <th>6877</th>\n",
       "      <td>12</td>\n",
       "    </tr>\n",
       "    <tr>\n",
       "      <th>3414</th>\n",
       "      <td>19</td>\n",
       "    </tr>\n",
       "    <tr>\n",
       "      <th>7015</th>\n",
       "      <td>19</td>\n",
       "    </tr>\n",
       "    <tr>\n",
       "      <th>5465</th>\n",
       "      <td>24</td>\n",
       "    </tr>\n",
       "    <tr>\n",
       "      <th>21</th>\n",
       "      <td>51</td>\n",
       "    </tr>\n",
       "  </tbody>\n",
       "</table>\n",
       "<p>8642 rows × 1 columns</p>\n",
       "</div><br><label><b>dtype:</b> int64</label>"
      ],
      "text/plain": [
       "177      9\n",
       "7536    11\n",
       "6290    10\n",
       "8818     1\n",
       "5306    76\n",
       "        ..\n",
       "6877    12\n",
       "3414    19\n",
       "7015    19\n",
       "5465    24\n",
       "21      51\n",
       "Name: text, Length: 8642, dtype: int64"
      ]
     },
     "execution_count": 54,
     "metadata": {},
     "output_type": "execute_result"
    }
   ],
   "source": [
    "preprocess.punctuation_count(train_df, \"text\", \"training\")"
   ]
  },
  {
   "cell_type": "code",
   "execution_count": 55,
   "metadata": {
    "colab": {
     "base_uri": "https://localhost:8080/",
     "height": 669
    },
    "executionInfo": {
     "elapsed": 130,
     "status": "ok",
     "timestamp": 1756012067722,
     "user": {
      "displayName": "Md. Arifuzzaman Munaf",
      "userId": "05714721125718487051"
     },
     "user_tz": -600
    },
    "id": "ytOcxES-1Gft",
    "outputId": "a684eff8-dd93-4d83-b8e4-7af63e826f5d"
   },
   "outputs": [
    {
     "name": "stdout",
     "output_type": "stream",
     "text": [
      "[testing] Total rows: 2161\n",
      "[testing] Rows containing punctuation: 2132\n",
      "[testing] Total punctuation characters: 66613\n",
      "\n",
      "Sample rows with punctuation in [testing]:\n",
      "                                                                                                                                                                                                         text\n",
      "3588  Once the Nazis took power , they moved swiftly and systematically against the homosexual community . Survivors detail how they clung to vain hope--one man , for example believed that with known ho...\n",
      "8780                                                                               No 8 \" carving knife . But like I said above , the 8 \" chef's knife works better than any carving knife that I have used .\n",
      "5027  Later , Baslim calls in some favors and sends Thorby to live with the Free Traders , a group of space merchants that keep to themselves with their own unique culture . Here Thorby discovers anothe...\n",
      "5832  5.0 Great product ! September 1 , 2006 Firas Alragom Kuwait I have had this product for well over a year now and was using it with my XP machine and am now using it with my Apple Mac Mini . Works ...\n",
      "6164  The decisive Armada happens much too quickly , lessening its impact and giving far too much tears in my eyes to be spent on the stormy relationship of Elizabeth and Robert Devereaux , Earl of Esse...\n"
     ]
    },
    {
     "data": {
      "text/html": [
       "<div>\n",
       "<style scoped>\n",
       "    .dataframe tbody tr th:only-of-type {\n",
       "        vertical-align: middle;\n",
       "    }\n",
       "\n",
       "    .dataframe tbody tr th {\n",
       "        vertical-align: top;\n",
       "    }\n",
       "\n",
       "    .dataframe thead th {\n",
       "        text-align: right;\n",
       "    }\n",
       "</style>\n",
       "<table border=\"1\" class=\"dataframe\">\n",
       "  <thead>\n",
       "    <tr style=\"text-align: right;\">\n",
       "      <th></th>\n",
       "      <th>text</th>\n",
       "    </tr>\n",
       "  </thead>\n",
       "  <tbody>\n",
       "    <tr>\n",
       "      <th>3588</th>\n",
       "      <td>14</td>\n",
       "    </tr>\n",
       "    <tr>\n",
       "      <th>8780</th>\n",
       "      <td>6</td>\n",
       "    </tr>\n",
       "    <tr>\n",
       "      <th>5027</th>\n",
       "      <td>21</td>\n",
       "    </tr>\n",
       "    <tr>\n",
       "      <th>5832</th>\n",
       "      <td>37</td>\n",
       "    </tr>\n",
       "    <tr>\n",
       "      <th>6164</th>\n",
       "      <td>21</td>\n",
       "    </tr>\n",
       "    <tr>\n",
       "      <th>...</th>\n",
       "      <td>...</td>\n",
       "    </tr>\n",
       "    <tr>\n",
       "      <th>5984</th>\n",
       "      <td>2</td>\n",
       "    </tr>\n",
       "    <tr>\n",
       "      <th>8664</th>\n",
       "      <td>25</td>\n",
       "    </tr>\n",
       "    <tr>\n",
       "      <th>4095</th>\n",
       "      <td>6</td>\n",
       "    </tr>\n",
       "    <tr>\n",
       "      <th>4668</th>\n",
       "      <td>5</td>\n",
       "    </tr>\n",
       "    <tr>\n",
       "      <th>1282</th>\n",
       "      <td>85</td>\n",
       "    </tr>\n",
       "  </tbody>\n",
       "</table>\n",
       "<p>2161 rows × 1 columns</p>\n",
       "</div><br><label><b>dtype:</b> int64</label>"
      ],
      "text/plain": [
       "3588    14\n",
       "8780     6\n",
       "5027    21\n",
       "5832    37\n",
       "6164    21\n",
       "        ..\n",
       "5984     2\n",
       "8664    25\n",
       "4095     6\n",
       "4668     5\n",
       "1282    85\n",
       "Name: text, Length: 2161, dtype: int64"
      ]
     },
     "execution_count": 55,
     "metadata": {},
     "output_type": "execute_result"
    }
   ],
   "source": [
    "preprocess.punctuation_count(test_df, \"text\", \"testing\")"
   ]
  },
  {
   "cell_type": "code",
   "execution_count": 56,
   "metadata": {
    "colab": {
     "base_uri": "https://localhost:8080/",
     "height": 545
    },
    "executionInfo": {
     "elapsed": 643,
     "status": "ok",
     "timestamp": 1756012068364,
     "user": {
      "displayName": "Md. Arifuzzaman Munaf",
      "userId": "05714721125718487051"
     },
     "user_tz": -600
    },
    "id": "6eJPIba41Tzj",
    "outputId": "5336131f-49d1-43ba-9c47-27355ba00a8b"
   },
   "outputs": [
    {
     "name": "stdout",
     "output_type": "stream",
     "text": [
      "Punctuation removed from [training] dataset column 'text'.\n",
      "[training] Total rows: 8642\n",
      "[training] Rows containing punctuation: 0\n",
      "[training] Total punctuation characters: 0\n",
      "\n"
     ]
    },
    {
     "data": {
      "text/html": [
       "<div>\n",
       "<style scoped>\n",
       "    .dataframe tbody tr th:only-of-type {\n",
       "        vertical-align: middle;\n",
       "    }\n",
       "\n",
       "    .dataframe tbody tr th {\n",
       "        vertical-align: top;\n",
       "    }\n",
       "\n",
       "    .dataframe thead th {\n",
       "        text-align: right;\n",
       "    }\n",
       "</style>\n",
       "<table border=\"1\" class=\"dataframe\">\n",
       "  <thead>\n",
       "    <tr style=\"text-align: right;\">\n",
       "      <th></th>\n",
       "      <th>text</th>\n",
       "    </tr>\n",
       "  </thead>\n",
       "  <tbody>\n",
       "    <tr>\n",
       "      <th>177</th>\n",
       "      <td>0</td>\n",
       "    </tr>\n",
       "    <tr>\n",
       "      <th>7536</th>\n",
       "      <td>0</td>\n",
       "    </tr>\n",
       "    <tr>\n",
       "      <th>6290</th>\n",
       "      <td>0</td>\n",
       "    </tr>\n",
       "    <tr>\n",
       "      <th>8818</th>\n",
       "      <td>0</td>\n",
       "    </tr>\n",
       "    <tr>\n",
       "      <th>5306</th>\n",
       "      <td>0</td>\n",
       "    </tr>\n",
       "    <tr>\n",
       "      <th>...</th>\n",
       "      <td>...</td>\n",
       "    </tr>\n",
       "    <tr>\n",
       "      <th>6877</th>\n",
       "      <td>0</td>\n",
       "    </tr>\n",
       "    <tr>\n",
       "      <th>3414</th>\n",
       "      <td>0</td>\n",
       "    </tr>\n",
       "    <tr>\n",
       "      <th>7015</th>\n",
       "      <td>0</td>\n",
       "    </tr>\n",
       "    <tr>\n",
       "      <th>5465</th>\n",
       "      <td>0</td>\n",
       "    </tr>\n",
       "    <tr>\n",
       "      <th>21</th>\n",
       "      <td>0</td>\n",
       "    </tr>\n",
       "  </tbody>\n",
       "</table>\n",
       "<p>8642 rows × 1 columns</p>\n",
       "</div><br><label><b>dtype:</b> int64</label>"
      ],
      "text/plain": [
       "177     0\n",
       "7536    0\n",
       "6290    0\n",
       "8818    0\n",
       "5306    0\n",
       "       ..\n",
       "6877    0\n",
       "3414    0\n",
       "7015    0\n",
       "5465    0\n",
       "21      0\n",
       "Name: text, Length: 8642, dtype: int64"
      ]
     },
     "execution_count": 56,
     "metadata": {},
     "output_type": "execute_result"
    }
   ],
   "source": [
    "train_df = preprocess.remove_punctuation(train_df, \"text\", \"training\", inplace=True)\n",
    "preprocess.punctuation_count(train_df, \"text\", \"training\")"
   ]
  },
  {
   "cell_type": "code",
   "execution_count": 57,
   "metadata": {
    "colab": {
     "base_uri": "https://localhost:8080/",
     "height": 545
    },
    "executionInfo": {
     "elapsed": 305,
     "status": "ok",
     "timestamp": 1756012068669,
     "user": {
      "displayName": "Md. Arifuzzaman Munaf",
      "userId": "05714721125718487051"
     },
     "user_tz": -600
    },
    "id": "YlM31IiB1heh",
    "outputId": "72ab1364-8fd8-4f3e-cec9-d14393a765a9"
   },
   "outputs": [
    {
     "name": "stdout",
     "output_type": "stream",
     "text": [
      "Punctuation removed from [testing] dataset column 'text'.\n",
      "[testing] Total rows: 8642\n",
      "[testing] Rows containing punctuation: 0\n",
      "[testing] Total punctuation characters: 0\n",
      "\n"
     ]
    },
    {
     "data": {
      "text/html": [
       "<div>\n",
       "<style scoped>\n",
       "    .dataframe tbody tr th:only-of-type {\n",
       "        vertical-align: middle;\n",
       "    }\n",
       "\n",
       "    .dataframe tbody tr th {\n",
       "        vertical-align: top;\n",
       "    }\n",
       "\n",
       "    .dataframe thead th {\n",
       "        text-align: right;\n",
       "    }\n",
       "</style>\n",
       "<table border=\"1\" class=\"dataframe\">\n",
       "  <thead>\n",
       "    <tr style=\"text-align: right;\">\n",
       "      <th></th>\n",
       "      <th>text</th>\n",
       "    </tr>\n",
       "  </thead>\n",
       "  <tbody>\n",
       "    <tr>\n",
       "      <th>177</th>\n",
       "      <td>0</td>\n",
       "    </tr>\n",
       "    <tr>\n",
       "      <th>7536</th>\n",
       "      <td>0</td>\n",
       "    </tr>\n",
       "    <tr>\n",
       "      <th>6290</th>\n",
       "      <td>0</td>\n",
       "    </tr>\n",
       "    <tr>\n",
       "      <th>8818</th>\n",
       "      <td>0</td>\n",
       "    </tr>\n",
       "    <tr>\n",
       "      <th>5306</th>\n",
       "      <td>0</td>\n",
       "    </tr>\n",
       "    <tr>\n",
       "      <th>...</th>\n",
       "      <td>...</td>\n",
       "    </tr>\n",
       "    <tr>\n",
       "      <th>6877</th>\n",
       "      <td>0</td>\n",
       "    </tr>\n",
       "    <tr>\n",
       "      <th>3414</th>\n",
       "      <td>0</td>\n",
       "    </tr>\n",
       "    <tr>\n",
       "      <th>7015</th>\n",
       "      <td>0</td>\n",
       "    </tr>\n",
       "    <tr>\n",
       "      <th>5465</th>\n",
       "      <td>0</td>\n",
       "    </tr>\n",
       "    <tr>\n",
       "      <th>21</th>\n",
       "      <td>0</td>\n",
       "    </tr>\n",
       "  </tbody>\n",
       "</table>\n",
       "<p>8642 rows × 1 columns</p>\n",
       "</div><br><label><b>dtype:</b> int64</label>"
      ],
      "text/plain": [
       "177     0\n",
       "7536    0\n",
       "6290    0\n",
       "8818    0\n",
       "5306    0\n",
       "       ..\n",
       "6877    0\n",
       "3414    0\n",
       "7015    0\n",
       "5465    0\n",
       "21      0\n",
       "Name: text, Length: 8642, dtype: int64"
      ]
     },
     "execution_count": 57,
     "metadata": {},
     "output_type": "execute_result"
    }
   ],
   "source": [
    "test_df = preprocess.remove_punctuation(test_df, \"text\", \"testing\", inplace=True)\n",
    "preprocess.punctuation_count(train_df, \"text\", \"testing\")\n"
   ]
  },
  {
   "cell_type": "markdown",
   "metadata": {
    "id": "ZS3IXEWJU_vL"
   },
   "source": [
    "The punctuation analysis revealed that the majority of reviews in both the training and testing sets contained punctuation marks. In the training dataset, 8,464 out of 8,642 rows included punctuation, totaling approximately 272,982 punctuation characters. Similarly, in the testing dataset, 2,132 out of 2,161 rows contained punctuation, with about 66,613 punctuation characters. After applying the punctuation removal process, all punctuation marks were successfully eliminated from both datasets, leaving zero rows with punctuation and ensuring that the text is fully cleaned. This step helps reduce noise and standardizes the textual input, making it more suitable for downstream sentiment analysis tasks."
   ]
  },
  {
   "cell_type": "code",
   "execution_count": 58,
   "metadata": {
    "colab": {
     "base_uri": "https://localhost:8080/",
     "height": 241
    },
    "executionInfo": {
     "elapsed": 92,
     "status": "ok",
     "timestamp": 1756012068766,
     "user": {
      "displayName": "Md. Arifuzzaman Munaf",
      "userId": "05714721125718487051"
     },
     "user_tz": -600
    },
    "id": "HAKLnqrs20yL",
    "outputId": "3bc34476-83ec-4541-9177-3fcdee2ebcab"
   },
   "outputs": [
    {
     "data": {
      "text/html": [
       "<div>\n",
       "<style scoped>\n",
       "    .dataframe tbody tr th:only-of-type {\n",
       "        vertical-align: middle;\n",
       "    }\n",
       "\n",
       "    .dataframe tbody tr th {\n",
       "        vertical-align: top;\n",
       "    }\n",
       "\n",
       "    .dataframe thead th {\n",
       "        text-align: right;\n",
       "    }\n",
       "</style>\n",
       "<table border=\"1\" class=\"dataframe\">\n",
       "  <thead>\n",
       "    <tr style=\"text-align: right;\">\n",
       "      <th></th>\n",
       "      <th>text</th>\n",
       "    </tr>\n",
       "  </thead>\n",
       "  <tbody>\n",
       "    <tr>\n",
       "      <th>177</th>\n",
       "      <td>Two supreme court justices are murdered by som...</td>\n",
       "    </tr>\n",
       "    <tr>\n",
       "      <th>7536</th>\n",
       "      <td>Was not expecting much but this movie was surp...</td>\n",
       "    </tr>\n",
       "    <tr>\n",
       "      <th>6290</th>\n",
       "      <td>Snow WHite and the 3 stooges Greetings The fro...</td>\n",
       "    </tr>\n",
       "    <tr>\n",
       "      <th>8818</th>\n",
       "      <td>And just to add some trivia</td>\n",
       "    </tr>\n",
       "    <tr>\n",
       "      <th>5306</th>\n",
       "      <td>The strong point of this novel is the humor em...</td>\n",
       "    </tr>\n",
       "  </tbody>\n",
       "</table>\n",
       "</div><br><label><b>dtype:</b> object</label>"
      ],
      "text/plain": [
       "177     Two supreme court justices are murdered by som...\n",
       "7536    Was not expecting much but this movie was surp...\n",
       "6290    Snow WHite and the 3 stooges Greetings The fro...\n",
       "8818                          And just to add some trivia\n",
       "5306    The strong point of this novel is the humor em...\n",
       "Name: text, dtype: object"
      ]
     },
     "execution_count": 58,
     "metadata": {},
     "output_type": "execute_result"
    }
   ],
   "source": [
    "train_df['text'].head(5)"
   ]
  },
  {
   "cell_type": "code",
   "execution_count": 59,
   "metadata": {
    "colab": {
     "base_uri": "https://localhost:8080/",
     "height": 241
    },
    "executionInfo": {
     "elapsed": 132,
     "status": "ok",
     "timestamp": 1756012068908,
     "user": {
      "displayName": "Md. Arifuzzaman Munaf",
      "userId": "05714721125718487051"
     },
     "user_tz": -600
    },
    "id": "OnaLXA5m3PFa",
    "outputId": "6c87344f-7ee9-4024-871f-84e4f7576034"
   },
   "outputs": [
    {
     "data": {
      "text/html": [
       "<div>\n",
       "<style scoped>\n",
       "    .dataframe tbody tr th:only-of-type {\n",
       "        vertical-align: middle;\n",
       "    }\n",
       "\n",
       "    .dataframe tbody tr th {\n",
       "        vertical-align: top;\n",
       "    }\n",
       "\n",
       "    .dataframe thead th {\n",
       "        text-align: right;\n",
       "    }\n",
       "</style>\n",
       "<table border=\"1\" class=\"dataframe\">\n",
       "  <thead>\n",
       "    <tr style=\"text-align: right;\">\n",
       "      <th></th>\n",
       "      <th>text</th>\n",
       "    </tr>\n",
       "  </thead>\n",
       "  <tbody>\n",
       "    <tr>\n",
       "      <th>3588</th>\n",
       "      <td>Once the Nazis took power they moved swiftly a...</td>\n",
       "    </tr>\n",
       "    <tr>\n",
       "      <th>8780</th>\n",
       "      <td>No 8 carving knife But like I said above the 8...</td>\n",
       "    </tr>\n",
       "    <tr>\n",
       "      <th>5027</th>\n",
       "      <td>Later Baslim calls in some favors and sends Th...</td>\n",
       "    </tr>\n",
       "    <tr>\n",
       "      <th>5832</th>\n",
       "      <td>50 Great product September 1 2006 Firas Alrago...</td>\n",
       "    </tr>\n",
       "    <tr>\n",
       "      <th>6164</th>\n",
       "      <td>The decisive Armada happens much too quickly l...</td>\n",
       "    </tr>\n",
       "  </tbody>\n",
       "</table>\n",
       "</div><br><label><b>dtype:</b> object</label>"
      ],
      "text/plain": [
       "3588    Once the Nazis took power they moved swiftly a...\n",
       "8780    No 8 carving knife But like I said above the 8...\n",
       "5027    Later Baslim calls in some favors and sends Th...\n",
       "5832    50 Great product September 1 2006 Firas Alrago...\n",
       "6164    The decisive Armada happens much too quickly l...\n",
       "Name: text, dtype: object"
      ]
     },
     "execution_count": 59,
     "metadata": {},
     "output_type": "execute_result"
    }
   ],
   "source": [
    "test_df['text'].head(5)"
   ]
  },
  {
   "cell_type": "markdown",
   "metadata": {
    "id": "VbwUPAiT38A7"
   },
   "source": [
    "# 3.5 Remove Numbers"
   ]
  },
  {
   "cell_type": "code",
   "execution_count": 60,
   "metadata": {
    "colab": {
     "base_uri": "https://localhost:8080/"
    },
    "executionInfo": {
     "elapsed": 139,
     "status": "ok",
     "timestamp": 1756012069046,
     "user": {
      "displayName": "Md. Arifuzzaman Munaf",
      "userId": "05714721125718487051"
     },
     "user_tz": -600
    },
    "id": "XmFi0X6B3-Td",
    "outputId": "45235124-e8f3-4033-c8a9-575716d7c997"
   },
   "outputs": [
    {
     "name": "stdout",
     "output_type": "stream",
     "text": [
      "Number of texts containing digits in Training data: 5376\n",
      "Number of texts containing digits in Testing data: 1333\n"
     ]
    }
   ],
   "source": [
    "preprocess.count_numbers(train_df, \"text\", \"Training\")\n",
    "preprocess.count_numbers(test_df, \"text\", \"Testing\")"
   ]
  },
  {
   "cell_type": "code",
   "execution_count": 61,
   "metadata": {
    "colab": {
     "base_uri": "https://localhost:8080/"
    },
    "executionInfo": {
     "elapsed": 441,
     "status": "ok",
     "timestamp": 1756012069486,
     "user": {
      "displayName": "Md. Arifuzzaman Munaf",
      "userId": "05714721125718487051"
     },
     "user_tz": -600
    },
    "id": "S_C7bLqM4XH8",
    "outputId": "121dd63e-2c47-4360-ea2a-ea685decbdae"
   },
   "outputs": [
    {
     "name": "stdout",
     "output_type": "stream",
     "text": [
      "Removing digits from Training data...\n",
      "Done!\n",
      "\n",
      "Removing digits from Testing data...\n",
      "Done!\n",
      "\n",
      "Number of texts containing digits in Training data: 0\n",
      "Number of texts containing digits in Testing data: 0\n"
     ]
    }
   ],
   "source": [
    "# Remove numbers from training and test data\n",
    "train_df['text'] = preprocess.remove_numbers(train_df, 'text', 'Training')\n",
    "test_df['text'] = preprocess.remove_numbers(test_df, 'text', 'Testing')\n",
    "\n",
    "# Verify numbers were removed\n",
    "preprocess.count_numbers(train_df, \"text\", \"Training\")\n",
    "preprocess.count_numbers(test_df, \"text\", \"Testing\")"
   ]
  },
  {
   "cell_type": "markdown",
   "metadata": {
    "id": "bIYrYVpK41Om"
   },
   "source": [
    "# 3.6 Remove Non-ASCII"
   ]
  },
  {
   "cell_type": "code",
   "execution_count": 62,
   "metadata": {
    "colab": {
     "base_uri": "https://localhost:8080/"
    },
    "executionInfo": {
     "elapsed": 202,
     "status": "ok",
     "timestamp": 1756012069688,
     "user": {
      "displayName": "Md. Arifuzzaman Munaf",
      "userId": "05714721125718487051"
     },
     "user_tz": -600
    },
    "id": "bcPhITe240W6",
    "outputId": "3cbdc718-f7db-4cfd-ca2f-117124a3d356"
   },
   "outputs": [
    {
     "name": "stdout",
     "output_type": "stream",
     "text": [
      "Tweets containing non-ASCII characters in Training data: 348\n",
      "Tweets containing non-ASCII characters in Testing data: 91\n"
     ]
    }
   ],
   "source": [
    "train_idx = preprocess.count_non_ascii(train_df, \"text\", \"Training\")\n",
    "test_idx = preprocess.count_non_ascii(test_df, \"text\", \"Testing\")"
   ]
  },
  {
   "cell_type": "code",
   "execution_count": 63,
   "metadata": {
    "colab": {
     "base_uri": "https://localhost:8080/"
    },
    "executionInfo": {
     "elapsed": 213,
     "status": "ok",
     "timestamp": 1756012069902,
     "user": {
      "displayName": "Md. Arifuzzaman Munaf",
      "userId": "05714721125718487051"
     },
     "user_tz": -600
    },
    "id": "v46Z1r-G5it0",
    "outputId": "6dfab890-bb1d-4efb-e3a9-391682401e2e"
   },
   "outputs": [
    {
     "name": "stdout",
     "output_type": "stream",
     "text": [
      "Tweets containing non-ASCII characters in Training data: 0\n",
      "Tweets containing non-ASCII characters in Testing data: 0\n"
     ]
    },
    {
     "data": {
      "text/plain": [
       "[]"
      ]
     },
     "execution_count": 63,
     "metadata": {},
     "output_type": "execute_result"
    }
   ],
   "source": [
    "# modify the text with non-ascii characters using index of non-ascii characters\n",
    "train_df.loc[train_idx, 'text'] = train_df.loc[train_idx, 'text'].apply(preprocess.remove_non_ascii)\n",
    "test_df.loc[test_idx, 'text'] = test_df.loc[test_idx, 'text'].apply(preprocess.remove_non_ascii)\n",
    "\n",
    "preprocess.count_non_ascii(train_df, \"text\", \"Training\")\n",
    "preprocess.count_non_ascii(test_df, \"text\", \"Testing\")"
   ]
  },
  {
   "cell_type": "markdown",
   "metadata": {
    "id": "FwFuUMVD6P0P"
   },
   "source": [
    "# 3.7 Stop Words\n",
    "\n",
    "Stop words are common words in a language, such as “the”, “an”, and “than”, that occur very frequently but carry little meaningful information for text analysis. A standard preprocessing step is to remove these words using predefined stopword lists, which have been established in prior studies.\n",
    "\n",
    "The NLTK library offers extensive stopword lists for different languages. By importing NLTK and downloading its stopwords corpus, these lists can be applied during preprocessing. Frequently used pronouns like “I”, “we”, and “you” are also removed, along with other stopwords, to minimize noise and enhance the quality of text analysis."
   ]
  },
  {
   "cell_type": "code",
   "execution_count": 64,
   "metadata": {
    "colab": {
     "base_uri": "https://localhost:8080/",
     "height": 206
    },
    "executionInfo": {
     "elapsed": 1929,
     "status": "ok",
     "timestamp": 1756012071844,
     "user": {
      "displayName": "Md. Arifuzzaman Munaf",
      "userId": "05714721125718487051"
     },
     "user_tz": -600
    },
    "id": "MgLQ8lYe6OXs",
    "outputId": "23757110-eea2-452f-a80b-33c4ab30a827"
   },
   "outputs": [
    {
     "data": {
      "application/vnd.google.colaboratory.intrinsic+json": {
       "summary": "{\n  \"name\": \"train_df\",\n  \"rows\": 8642,\n  \"fields\": [\n    {\n      \"column\": \"text\",\n      \"properties\": {\n        \"dtype\": \"string\",\n        \"num_unique_values\": 8416,\n        \"samples\": [\n          \"mustread anyone concerned fate americas young minds nation\",\n          \"example one chapter law manipulates teaching god contradict bible assumption gods author dialogue conservative religious person law even sarcastically concludes chapter saying dialogue dream real god would probably respond differently\",\n          \"use monster icarplay fm transmitter charger uses dock connector cannot get ipod mini fit way still fits well enough stay place\"\n        ],\n        \"semantic_type\": \"\",\n        \"description\": \"\"\n      }\n    },\n    {\n      \"column\": \"label\",\n      \"properties\": {\n        \"dtype\": \"number\",\n        \"std\": 0,\n        \"min\": 0,\n        \"max\": 1,\n        \"num_unique_values\": 2,\n        \"samples\": [\n          0,\n          1\n        ],\n        \"semantic_type\": \"\",\n        \"description\": \"\"\n      }\n    },\n    {\n      \"column\": \"domain\",\n      \"properties\": {\n        \"dtype\": \"category\",\n        \"num_unique_values\": 4,\n        \"samples\": [\n          \"dvd\",\n          \"electronics\"\n        ],\n        \"semantic_type\": \"\",\n        \"description\": \"\"\n      }\n    }\n  ]\n}",
       "type": "dataframe",
       "variable_name": "train_df"
      },
      "text/html": [
       "\n",
       "  <div id=\"df-2637b875-e264-41ff-af87-571116b3005c\" class=\"colab-df-container\">\n",
       "    <div>\n",
       "<style scoped>\n",
       "    .dataframe tbody tr th:only-of-type {\n",
       "        vertical-align: middle;\n",
       "    }\n",
       "\n",
       "    .dataframe tbody tr th {\n",
       "        vertical-align: top;\n",
       "    }\n",
       "\n",
       "    .dataframe thead th {\n",
       "        text-align: right;\n",
       "    }\n",
       "</style>\n",
       "<table border=\"1\" class=\"dataframe\">\n",
       "  <thead>\n",
       "    <tr style=\"text-align: right;\">\n",
       "      <th></th>\n",
       "      <th>text</th>\n",
       "      <th>label</th>\n",
       "      <th>domain</th>\n",
       "    </tr>\n",
       "  </thead>\n",
       "  <tbody>\n",
       "    <tr>\n",
       "      <th>177</th>\n",
       "      <td>two supreme court justices murdered someone go...</td>\n",
       "      <td>1</td>\n",
       "      <td>books</td>\n",
       "    </tr>\n",
       "    <tr>\n",
       "      <th>7536</th>\n",
       "      <td>expecting much movie surprisingly entertaining...</td>\n",
       "      <td>1</td>\n",
       "      <td>dvd</td>\n",
       "    </tr>\n",
       "    <tr>\n",
       "      <th>6290</th>\n",
       "      <td>snow white stooges greetings frozen dead saved...</td>\n",
       "      <td>0</td>\n",
       "      <td>dvd</td>\n",
       "    </tr>\n",
       "    <tr>\n",
       "      <th>8818</th>\n",
       "      <td>add trivia</td>\n",
       "      <td>1</td>\n",
       "      <td>dvd</td>\n",
       "    </tr>\n",
       "    <tr>\n",
       "      <th>5306</th>\n",
       "      <td>strong point novel humor employed neil gaiman ...</td>\n",
       "      <td>1</td>\n",
       "      <td>books</td>\n",
       "    </tr>\n",
       "  </tbody>\n",
       "</table>\n",
       "</div>\n",
       "    <div class=\"colab-df-buttons\">\n",
       "\n",
       "  <div class=\"colab-df-container\">\n",
       "    <button class=\"colab-df-convert\" onclick=\"convertToInteractive('df-2637b875-e264-41ff-af87-571116b3005c')\"\n",
       "            title=\"Convert this dataframe to an interactive table.\"\n",
       "            style=\"display:none;\">\n",
       "\n",
       "  <svg xmlns=\"http://www.w3.org/2000/svg\" height=\"24px\" viewBox=\"0 -960 960 960\">\n",
       "    <path d=\"M120-120v-720h720v720H120Zm60-500h600v-160H180v160Zm220 220h160v-160H400v160Zm0 220h160v-160H400v160ZM180-400h160v-160H180v160Zm440 0h160v-160H620v160ZM180-180h160v-160H180v160Zm440 0h160v-160H620v160Z\"/>\n",
       "  </svg>\n",
       "    </button>\n",
       "\n",
       "  <style>\n",
       "    .colab-df-container {\n",
       "      display:flex;\n",
       "      gap: 12px;\n",
       "    }\n",
       "\n",
       "    .colab-df-convert {\n",
       "      background-color: #E8F0FE;\n",
       "      border: none;\n",
       "      border-radius: 50%;\n",
       "      cursor: pointer;\n",
       "      display: none;\n",
       "      fill: #1967D2;\n",
       "      height: 32px;\n",
       "      padding: 0 0 0 0;\n",
       "      width: 32px;\n",
       "    }\n",
       "\n",
       "    .colab-df-convert:hover {\n",
       "      background-color: #E2EBFA;\n",
       "      box-shadow: 0px 1px 2px rgba(60, 64, 67, 0.3), 0px 1px 3px 1px rgba(60, 64, 67, 0.15);\n",
       "      fill: #174EA6;\n",
       "    }\n",
       "\n",
       "    .colab-df-buttons div {\n",
       "      margin-bottom: 4px;\n",
       "    }\n",
       "\n",
       "    [theme=dark] .colab-df-convert {\n",
       "      background-color: #3B4455;\n",
       "      fill: #D2E3FC;\n",
       "    }\n",
       "\n",
       "    [theme=dark] .colab-df-convert:hover {\n",
       "      background-color: #434B5C;\n",
       "      box-shadow: 0px 1px 3px 1px rgba(0, 0, 0, 0.15);\n",
       "      filter: drop-shadow(0px 1px 2px rgba(0, 0, 0, 0.3));\n",
       "      fill: #FFFFFF;\n",
       "    }\n",
       "  </style>\n",
       "\n",
       "    <script>\n",
       "      const buttonEl =\n",
       "        document.querySelector('#df-2637b875-e264-41ff-af87-571116b3005c button.colab-df-convert');\n",
       "      buttonEl.style.display =\n",
       "        google.colab.kernel.accessAllowed ? 'block' : 'none';\n",
       "\n",
       "      async function convertToInteractive(key) {\n",
       "        const element = document.querySelector('#df-2637b875-e264-41ff-af87-571116b3005c');\n",
       "        const dataTable =\n",
       "          await google.colab.kernel.invokeFunction('convertToInteractive',\n",
       "                                                    [key], {});\n",
       "        if (!dataTable) return;\n",
       "\n",
       "        const docLinkHtml = 'Like what you see? Visit the ' +\n",
       "          '<a target=\"_blank\" href=https://colab.research.google.com/notebooks/data_table.ipynb>data table notebook</a>'\n",
       "          + ' to learn more about interactive tables.';\n",
       "        element.innerHTML = '';\n",
       "        dataTable['output_type'] = 'display_data';\n",
       "        await google.colab.output.renderOutput(dataTable, element);\n",
       "        const docLink = document.createElement('div');\n",
       "        docLink.innerHTML = docLinkHtml;\n",
       "        element.appendChild(docLink);\n",
       "      }\n",
       "    </script>\n",
       "  </div>\n",
       "\n",
       "\n",
       "    <div id=\"df-07cc3854-57b3-43b8-8737-0fd3ab990579\">\n",
       "      <button class=\"colab-df-quickchart\" onclick=\"quickchart('df-07cc3854-57b3-43b8-8737-0fd3ab990579')\"\n",
       "                title=\"Suggest charts\"\n",
       "                style=\"display:none;\">\n",
       "\n",
       "<svg xmlns=\"http://www.w3.org/2000/svg\" height=\"24px\"viewBox=\"0 0 24 24\"\n",
       "     width=\"24px\">\n",
       "    <g>\n",
       "        <path d=\"M19 3H5c-1.1 0-2 .9-2 2v14c0 1.1.9 2 2 2h14c1.1 0 2-.9 2-2V5c0-1.1-.9-2-2-2zM9 17H7v-7h2v7zm4 0h-2V7h2v10zm4 0h-2v-4h2v4z\"/>\n",
       "    </g>\n",
       "</svg>\n",
       "      </button>\n",
       "\n",
       "<style>\n",
       "  .colab-df-quickchart {\n",
       "      --bg-color: #E8F0FE;\n",
       "      --fill-color: #1967D2;\n",
       "      --hover-bg-color: #E2EBFA;\n",
       "      --hover-fill-color: #174EA6;\n",
       "      --disabled-fill-color: #AAA;\n",
       "      --disabled-bg-color: #DDD;\n",
       "  }\n",
       "\n",
       "  [theme=dark] .colab-df-quickchart {\n",
       "      --bg-color: #3B4455;\n",
       "      --fill-color: #D2E3FC;\n",
       "      --hover-bg-color: #434B5C;\n",
       "      --hover-fill-color: #FFFFFF;\n",
       "      --disabled-bg-color: #3B4455;\n",
       "      --disabled-fill-color: #666;\n",
       "  }\n",
       "\n",
       "  .colab-df-quickchart {\n",
       "    background-color: var(--bg-color);\n",
       "    border: none;\n",
       "    border-radius: 50%;\n",
       "    cursor: pointer;\n",
       "    display: none;\n",
       "    fill: var(--fill-color);\n",
       "    height: 32px;\n",
       "    padding: 0;\n",
       "    width: 32px;\n",
       "  }\n",
       "\n",
       "  .colab-df-quickchart:hover {\n",
       "    background-color: var(--hover-bg-color);\n",
       "    box-shadow: 0 1px 2px rgba(60, 64, 67, 0.3), 0 1px 3px 1px rgba(60, 64, 67, 0.15);\n",
       "    fill: var(--button-hover-fill-color);\n",
       "  }\n",
       "\n",
       "  .colab-df-quickchart-complete:disabled,\n",
       "  .colab-df-quickchart-complete:disabled:hover {\n",
       "    background-color: var(--disabled-bg-color);\n",
       "    fill: var(--disabled-fill-color);\n",
       "    box-shadow: none;\n",
       "  }\n",
       "\n",
       "  .colab-df-spinner {\n",
       "    border: 2px solid var(--fill-color);\n",
       "    border-color: transparent;\n",
       "    border-bottom-color: var(--fill-color);\n",
       "    animation:\n",
       "      spin 1s steps(1) infinite;\n",
       "  }\n",
       "\n",
       "  @keyframes spin {\n",
       "    0% {\n",
       "      border-color: transparent;\n",
       "      border-bottom-color: var(--fill-color);\n",
       "      border-left-color: var(--fill-color);\n",
       "    }\n",
       "    20% {\n",
       "      border-color: transparent;\n",
       "      border-left-color: var(--fill-color);\n",
       "      border-top-color: var(--fill-color);\n",
       "    }\n",
       "    30% {\n",
       "      border-color: transparent;\n",
       "      border-left-color: var(--fill-color);\n",
       "      border-top-color: var(--fill-color);\n",
       "      border-right-color: var(--fill-color);\n",
       "    }\n",
       "    40% {\n",
       "      border-color: transparent;\n",
       "      border-right-color: var(--fill-color);\n",
       "      border-top-color: var(--fill-color);\n",
       "    }\n",
       "    60% {\n",
       "      border-color: transparent;\n",
       "      border-right-color: var(--fill-color);\n",
       "    }\n",
       "    80% {\n",
       "      border-color: transparent;\n",
       "      border-right-color: var(--fill-color);\n",
       "      border-bottom-color: var(--fill-color);\n",
       "    }\n",
       "    90% {\n",
       "      border-color: transparent;\n",
       "      border-bottom-color: var(--fill-color);\n",
       "    }\n",
       "  }\n",
       "</style>\n",
       "\n",
       "      <script>\n",
       "        async function quickchart(key) {\n",
       "          const quickchartButtonEl =\n",
       "            document.querySelector('#' + key + ' button');\n",
       "          quickchartButtonEl.disabled = true;  // To prevent multiple clicks.\n",
       "          quickchartButtonEl.classList.add('colab-df-spinner');\n",
       "          try {\n",
       "            const charts = await google.colab.kernel.invokeFunction(\n",
       "                'suggestCharts', [key], {});\n",
       "          } catch (error) {\n",
       "            console.error('Error during call to suggestCharts:', error);\n",
       "          }\n",
       "          quickchartButtonEl.classList.remove('colab-df-spinner');\n",
       "          quickchartButtonEl.classList.add('colab-df-quickchart-complete');\n",
       "        }\n",
       "        (() => {\n",
       "          let quickchartButtonEl =\n",
       "            document.querySelector('#df-07cc3854-57b3-43b8-8737-0fd3ab990579 button');\n",
       "          quickchartButtonEl.style.display =\n",
       "            google.colab.kernel.accessAllowed ? 'block' : 'none';\n",
       "        })();\n",
       "      </script>\n",
       "    </div>\n",
       "\n",
       "    </div>\n",
       "  </div>\n"
      ],
      "text/plain": [
       "                                                   text  label domain\n",
       "177   two supreme court justices murdered someone go...      1  books\n",
       "7536  expecting much movie surprisingly entertaining...      1    dvd\n",
       "6290  snow white stooges greetings frozen dead saved...      0    dvd\n",
       "8818                                         add trivia      1    dvd\n",
       "5306  strong point novel humor employed neil gaiman ...      1  books"
      ]
     },
     "execution_count": 64,
     "metadata": {},
     "output_type": "execute_result"
    }
   ],
   "source": [
    "train_df['text'] = train_df['text'].apply(preprocess.remove_stopwords)\n",
    "test_df['text'] = test_df['text'].apply(preprocess.remove_stopwords)\n",
    "\n",
    "train_df.head()"
   ]
  },
  {
   "cell_type": "markdown",
   "metadata": {
    "id": "XPfpAB8f8GzU"
   },
   "source": [
    "# 3.8 Outliers\n",
    "\n",
    "Outlier detection and removal in the dataset was carried out based on the word length (token count) of each review. For every entry, the number of words was computed from the text column, and quantile thresholds were applied to identify extreme cases. By default, reviews falling below the 2nd percentile or above the 99th percentile of word length were flagged as outliers.\n",
    "\n",
    "Reviews shorter than the lower cutoff (extremely short texts, often containing zero or very few words) and those longer than the upper cutoff (unusually lengthy reviews with excessive word counts) were removed. This approach ensured that the majority of reviews (inliers) were retained while eliminating noisy or unrepresentative samples.\n",
    "\n",
    "The method provided detailed statistics, including the quantile cutoffs, the total number of rows before and after cleaning, and the count of outliers removed. Sample outliers were also displayed for inspection, showcasing examples of reviews that were either abnormally short or excessively long."
   ]
  },
  {
   "cell_type": "code",
   "execution_count": 65,
   "metadata": {
    "colab": {
     "base_uri": "https://localhost:8080/",
     "height": 1000
    },
    "executionInfo": {
     "elapsed": 771,
     "status": "ok",
     "timestamp": 1756012072617,
     "user": {
      "displayName": "Md. Arifuzzaman Munaf",
      "userId": "05714721125718487051"
     },
     "user_tz": -600
    },
    "id": "rUMBO7Q48JBU",
    "outputId": "db7652da-6254-46e3-b602-ad3f96f9b08a"
   },
   "outputs": [
    {
     "data": {
      "image/png": "[encoded data removed]",
      "text/plain": [
       "<Figure size 768x576 with 1 Axes>"
      ]
     },
     "metadata": {},
     "output_type": "display_data"
    },
    {
     "data": {
      "image/png": "[encoded data removed]",
      "text/plain": [
       "<Figure size 768x576 with 1 Axes>"
      ]
     },
     "metadata": {},
     "output_type": "display_data"
    }
   ],
   "source": [
    "preprocess.show_word_count(train_df, \"text\", \"Training\")\n",
    "preprocess.show_word_count(train_df, \"text\", \"Testing\")"
   ]
  },
  {
   "cell_type": "code",
   "execution_count": 66,
   "metadata": {
    "colab": {
     "base_uri": "https://localhost:8080/",
     "height": 971
    },
    "executionInfo": {
     "elapsed": 344,
     "status": "ok",
     "timestamp": 1756012072963,
     "user": {
      "displayName": "Md. Arifuzzaman Munaf",
      "userId": "05714721125718487051"
     },
     "user_tz": -600
    },
    "id": "omb4JW3j-XyA",
    "outputId": "bd8a3c9c-5372-4cd4-af37-1f325a0fae2f"
   },
   "outputs": [
    {
     "name": "stdout",
     "output_type": "stream",
     "text": [
      "[Training] Column: 'text'\n",
      "  Quantile cutoffs: low=1.000, high=435.000\n",
      "  Total rows: 8642 | Inliers kept: 8398 | Outliers removed: 244\n",
      "\n",
      "Examples of outliers:\n"
     ]
    },
    {
     "data": {
      "application/vnd.google.colaboratory.intrinsic+json": {
       "summary": "{\n  \"name\": \"preprocess\",\n  \"rows\": 10,\n  \"fields\": [\n    {\n      \"column\": \"text\",\n      \"properties\": {\n        \"dtype\": \"string\",\n        \"num_unique_values\": 6,\n        \"samples\": [\n          \"\",\n          \"wow bloodlines irene kelly novel irene kelly mysteries paperback books jan burke books wow april tx usa involved book bringing light past present characters loved nice see history oconnor mentor jack thought ms burke pulled one nicely mystery spread yr timeframe nice job nice see new characters introduced also hope see future books read series could probably get away starting book tell though missing lot reading books irene kelly series aquick terrificread destefano mornings horseback books david g mccullough books quick terrific read march destefano staten island new york david mcculloughs treatment american icon best kind biography reads like fascinating novel mcculloughs narrative ability unmatched one seems able tell story way great theodore roosevelt known throughout world across ages incredibly strong tough larger life figure actually began somewhat weakling book covers total transformation sickly child man great resolve courage man would become president united states best mccullough likes admires subject always case biographies roosevelt family treated dignity respect deserve highly recommended mcculloughs books lastmanstandingbaldaccisbest atagirl last man standing books david baldacci books last man standing baldaccis best april datagirl usa religiously read baldaccis books cannot write fast enough one best would give stars could agoodbookbutlikemostheinleinsbooks ariela scifipuritan double star books robert heinlein books good book like heinleins books january ariel scifipuritan israel surmise book actor hired political figure reveal ruin nature plot felt like heinleins books book plauged politics less science fiction scifi thing plot takes place space politics thing citizen galaxy book starts really well ending theme portray scifi rather shows heinleins knowledge law felt book could much better see hugo award conclusion book fun pass nothing expect groundbreaking plot jaw dropping plot twists old fashioned politiciansdeardiary yrsofwesterncivilizationmappedout onalda mcafee penguin historical atlas greece hist atlas books robert morkot books yrs western civilization mapped april donald mcafee richmond va usa inveterate map reader whenever travel map pocket recent trip middle east growing hobby collecting ancient coins left lost confused tried put context ruins visited coins collected tears eyes names cities regions change one needs separate map period morkots superbly written historical atlas provides maps rationale context evolution change one best features structure book use overview followed series indepth accounts perspective important players given historical period approach immensely effective reinforcing information since information repeated new information added regions politics battles succesively presented mycenae parthians thousands years thousands miles thousands political entities whose ebb flow power reach influence affect us even today first tears eyes years puzzling strange grecian place names leaders able begin understand millenia preceding birth christ wish first book read study ancient history hardly wait start penguins sequel acient rome bookpurchase onkilling thepsychologicalcostoflearningtokillinwarandsociety bookcrow tlc killing psychological cost learning kill war society books dave grossman books book purchase killing psychological cost learning kill war society november book crow tlc md usa good transaction thank whathaveyougottolose thierryfossemalle thierry easy way stop smoking penguin health care fitness books allen carr books got lose september thierry fossemalle thierry byron bay nsw australia want stop smoking give go either stop right away never beleive doomed puff life either way win strange thing say book true say amazing stuff excellentandentertainingstoriesthatilluminateessentialspiritualtruths p atrickd goonan wwwmeaningfullifeus ecstasy laundry heart grows wise spiritual path books jack kornfield books excellent entertaining stories illuminate essential spiritual truths september patrick goonan wwwmeaningfullifeus pleasanton ca like jack kornfields work book exception lot good stories entertaining illuminates important spiritual truths focus book misconceptions enlightenment samdhi experiences also contains beautiful accounts samdhi experiences taken various religious traditions\",\n          \"item exactly promised gift dads new wife happy bdey thisspoonisawesome rosebud bdey h mack french beechwood mixing spoon kitchen housewares kitchen housewares spoon awesome december rosebud pa usa even entering kitchen gives hives spoon make easier balanced easy use easy clean store goes cooktop serving contemporary fashion without spilling breaking like elcheapo brands care spoon serve well many years first one used death died result accident blender searching one ever since replace price buying several brw greatstyling doesthejob p aull wilkinson paul brw braun wk impressions cup electric kettle brushed stainless steel kitchen housewares kitchen housewares great styling job august paul loss wilkinson paul annapolis md great product boil water fast easy fill use pours beautifully bveogg happywithpurchace h webber lovegarlic bveogg miu france stainlesssteel piece measuring cup set kitchen housewares kitchen housewares happy purchace march h webber lovegarlic united states nice beats flimsy plastic broken otherwise worn parts plastic measuring sets probably outlast bobc multipurposeequipment j ku shoppercook bobc zojirushi epevc electric gourmet expert kitchen housewares kitchen housewares multipurpose equipment march j ku shopper cook oak park il usa bought chinese japanese style hotpot turned fabulous hotpot fast boiling tears eyes excellent grill although grill grids korean bbq cajun shrimps turned wonderful used pot extensively twice week past three months continues perform superbly bg lovethem wendya church bg anolon professional piece nonstick cookware set kitchen housewares kitchen housewares love august wendy church washington pans five years use almost every night never problems cook food evenly would highly recommend bdrc greateveryday p mulvihill bdrc bodum usa mini ibis ounce electric water kettle kitchen housewares kitchen housewares great every day july p mulvihill new york ny thing workhorse use every day mines going strong five years wish would bring back translucent colors love able see glance whether kettle water current opaque black white models possible bktx lovethelittlepackets mariar bktx cuisipro donvier yogurt starter kitchen housewares kitchen housewares love little packets march maria r buffalo ny made yogurt tablespoons super market previous batch sometimes sweeten whole batch honey forget reserve good stuff probably use every batch first started making yogurt using packets allowed vary tears eyes add powdered milk found perfect batch add powdered milk makes thicker tart prefer bit thinner getting addicted europe last year perfect tool newbies cupboard staple seasoned yogurtheads bhltt great butbuyelsewhere anonymous bhltt kitchenaid kvgoxww professional plus quart stand mixer white white kitchen housewares kitchen housewares great buy elsewhere july anonymous san diego ca usa kitchenaid professional plus kvgx great product buy elsewhere ordered amazon got commercial kmgx instead want contacted customer service said would exchange sent us another kmgx good obviously customer service representative claimed could reliably get touch warehouse idea whether ever actually would get item advertise said sometimes substituted similar products great\"\n        ],\n        \"semantic_type\": \"\",\n        \"description\": \"\"\n      }\n    },\n    {\n      \"column\": \"label\",\n      \"properties\": {\n        \"dtype\": \"number\",\n        \"std\": 0,\n        \"min\": 0,\n        \"max\": 1,\n        \"num_unique_values\": 2,\n        \"samples\": [\n          0,\n          1\n        ],\n        \"semantic_type\": \"\",\n        \"description\": \"\"\n      }\n    },\n    {\n      \"column\": \"domain\",\n      \"properties\": {\n        \"dtype\": \"category\",\n        \"num_unique_values\": 4,\n        \"samples\": [\n          \"electronics\",\n          \"dvd\"\n        ],\n        \"semantic_type\": \"\",\n        \"description\": \"\"\n      }\n    },\n    {\n      \"column\": \"word_len\",\n      \"properties\": {\n        \"dtype\": \"number\",\n        \"std\": 277,\n        \"min\": 0,\n        \"max\": 643,\n        \"num_unique_values\": 6,\n        \"samples\": [\n          0,\n          575\n        ],\n        \"semantic_type\": \"\",\n        \"description\": \"\"\n      }\n    }\n  ]\n}",
       "type": "dataframe"
      },
      "text/html": [
       "\n",
       "  <div id=\"df-022fdffc-74b4-4a85-a785-f7d5b58cd366\" class=\"colab-df-container\">\n",
       "    <div>\n",
       "<style scoped>\n",
       "    .dataframe tbody tr th:only-of-type {\n",
       "        vertical-align: middle;\n",
       "    }\n",
       "\n",
       "    .dataframe tbody tr th {\n",
       "        vertical-align: top;\n",
       "    }\n",
       "\n",
       "    .dataframe thead th {\n",
       "        text-align: right;\n",
       "    }\n",
       "</style>\n",
       "<table border=\"1\" class=\"dataframe\">\n",
       "  <thead>\n",
       "    <tr style=\"text-align: right;\">\n",
       "      <th></th>\n",
       "      <th>text</th>\n",
       "      <th>label</th>\n",
       "      <th>domain</th>\n",
       "      <th>word_len</th>\n",
       "    </tr>\n",
       "  </thead>\n",
       "  <tbody>\n",
       "    <tr>\n",
       "      <th>171</th>\n",
       "      <td></td>\n",
       "      <td>1</td>\n",
       "      <td>books</td>\n",
       "      <td>0</td>\n",
       "    </tr>\n",
       "    <tr>\n",
       "      <th>5799</th>\n",
       "      <td></td>\n",
       "      <td>1</td>\n",
       "      <td>electronics</td>\n",
       "      <td>0</td>\n",
       "    </tr>\n",
       "    <tr>\n",
       "      <th>1164</th>\n",
       "      <td></td>\n",
       "      <td>1</td>\n",
       "      <td>kitchen_&amp;_housewares</td>\n",
       "      <td>0</td>\n",
       "    </tr>\n",
       "    <tr>\n",
       "      <th>1247</th>\n",
       "      <td></td>\n",
       "      <td>0</td>\n",
       "      <td>kitchen_&amp;_housewares</td>\n",
       "      <td>0</td>\n",
       "    </tr>\n",
       "    <tr>\n",
       "      <th>5804</th>\n",
       "      <td></td>\n",
       "      <td>1</td>\n",
       "      <td>kitchen_&amp;_housewares</td>\n",
       "      <td>0</td>\n",
       "    </tr>\n",
       "    <tr>\n",
       "      <th>10424</th>\n",
       "      <td>wow bloodlines irene kelly novel irene kelly m...</td>\n",
       "      <td>1</td>\n",
       "      <td>books</td>\n",
       "      <td>575</td>\n",
       "    </tr>\n",
       "    <tr>\n",
       "      <th>293</th>\n",
       "      <td>van damn november n harmon ndharmon baltimore ...</td>\n",
       "      <td>1</td>\n",
       "      <td>dvd</td>\n",
       "      <td>447</td>\n",
       "    </tr>\n",
       "    <tr>\n",
       "      <th>2274</th>\n",
       "      <td>bya embarrasingtowatch gordonc tait bya stuff ...</td>\n",
       "      <td>0</td>\n",
       "      <td>dvd</td>\n",
       "      <td>446</td>\n",
       "    </tr>\n",
       "    <tr>\n",
       "      <th>6668</th>\n",
       "      <td>plot stronger dick jane quite dr seuss level y...</td>\n",
       "      <td>1</td>\n",
       "      <td>books</td>\n",
       "      <td>643</td>\n",
       "    </tr>\n",
       "    <tr>\n",
       "      <th>4396</th>\n",
       "      <td>item exactly promised gift dads new wife happy...</td>\n",
       "      <td>1</td>\n",
       "      <td>kitchen_&amp;_housewares</td>\n",
       "      <td>458</td>\n",
       "    </tr>\n",
       "  </tbody>\n",
       "</table>\n",
       "</div>\n",
       "    <div class=\"colab-df-buttons\">\n",
       "\n",
       "  <div class=\"colab-df-container\">\n",
       "    <button class=\"colab-df-convert\" onclick=\"convertToInteractive('df-022fdffc-74b4-4a85-a785-f7d5b58cd366')\"\n",
       "            title=\"Convert this dataframe to an interactive table.\"\n",
       "            style=\"display:none;\">\n",
       "\n",
       "  <svg xmlns=\"http://www.w3.org/2000/svg\" height=\"24px\" viewBox=\"0 -960 960 960\">\n",
       "    <path d=\"M120-120v-720h720v720H120Zm60-500h600v-160H180v160Zm220 220h160v-160H400v160Zm0 220h160v-160H400v160ZM180-400h160v-160H180v160Zm440 0h160v-160H620v160ZM180-180h160v-160H180v160Zm440 0h160v-160H620v160Z\"/>\n",
       "  </svg>\n",
       "    </button>\n",
       "\n",
       "  <style>\n",
       "    .colab-df-container {\n",
       "      display:flex;\n",
       "      gap: 12px;\n",
       "    }\n",
       "\n",
       "    .colab-df-convert {\n",
       "      background-color: #E8F0FE;\n",
       "      border: none;\n",
       "      border-radius: 50%;\n",
       "      cursor: pointer;\n",
       "      display: none;\n",
       "      fill: #1967D2;\n",
       "      height: 32px;\n",
       "      padding: 0 0 0 0;\n",
       "      width: 32px;\n",
       "    }\n",
       "\n",
       "    .colab-df-convert:hover {\n",
       "      background-color: #E2EBFA;\n",
       "      box-shadow: 0px 1px 2px rgba(60, 64, 67, 0.3), 0px 1px 3px 1px rgba(60, 64, 67, 0.15);\n",
       "      fill: #174EA6;\n",
       "    }\n",
       "\n",
       "    .colab-df-buttons div {\n",
       "      margin-bottom: 4px;\n",
       "    }\n",
       "\n",
       "    [theme=dark] .colab-df-convert {\n",
       "      background-color: #3B4455;\n",
       "      fill: #D2E3FC;\n",
       "    }\n",
       "\n",
       "    [theme=dark] .colab-df-convert:hover {\n",
       "      background-color: #434B5C;\n",
       "      box-shadow: 0px 1px 3px 1px rgba(0, 0, 0, 0.15);\n",
       "      filter: drop-shadow(0px 1px 2px rgba(0, 0, 0, 0.3));\n",
       "      fill: #FFFFFF;\n",
       "    }\n",
       "  </style>\n",
       "\n",
       "    <script>\n",
       "      const buttonEl =\n",
       "        document.querySelector('#df-022fdffc-74b4-4a85-a785-f7d5b58cd366 button.colab-df-convert');\n",
       "      buttonEl.style.display =\n",
       "        google.colab.kernel.accessAllowed ? 'block' : 'none';\n",
       "\n",
       "      async function convertToInteractive(key) {\n",
       "        const element = document.querySelector('#df-022fdffc-74b4-4a85-a785-f7d5b58cd366');\n",
       "        const dataTable =\n",
       "          await google.colab.kernel.invokeFunction('convertToInteractive',\n",
       "                                                    [key], {});\n",
       "        if (!dataTable) return;\n",
       "\n",
       "        const docLinkHtml = 'Like what you see? Visit the ' +\n",
       "          '<a target=\"_blank\" href=https://colab.research.google.com/notebooks/data_table.ipynb>data table notebook</a>'\n",
       "          + ' to learn more about interactive tables.';\n",
       "        element.innerHTML = '';\n",
       "        dataTable['output_type'] = 'display_data';\n",
       "        await google.colab.output.renderOutput(dataTable, element);\n",
       "        const docLink = document.createElement('div');\n",
       "        docLink.innerHTML = docLinkHtml;\n",
       "        element.appendChild(docLink);\n",
       "      }\n",
       "    </script>\n",
       "  </div>\n",
       "\n",
       "\n",
       "    <div id=\"df-79b2b7c5-507d-4946-b610-35103c3fc989\">\n",
       "      <button class=\"colab-df-quickchart\" onclick=\"quickchart('df-79b2b7c5-507d-4946-b610-35103c3fc989')\"\n",
       "                title=\"Suggest charts\"\n",
       "                style=\"display:none;\">\n",
       "\n",
       "<svg xmlns=\"http://www.w3.org/2000/svg\" height=\"24px\"viewBox=\"0 0 24 24\"\n",
       "     width=\"24px\">\n",
       "    <g>\n",
       "        <path d=\"M19 3H5c-1.1 0-2 .9-2 2v14c0 1.1.9 2 2 2h14c1.1 0 2-.9 2-2V5c0-1.1-.9-2-2-2zM9 17H7v-7h2v7zm4 0h-2V7h2v10zm4 0h-2v-4h2v4z\"/>\n",
       "    </g>\n",
       "</svg>\n",
       "      </button>\n",
       "\n",
       "<style>\n",
       "  .colab-df-quickchart {\n",
       "      --bg-color: #E8F0FE;\n",
       "      --fill-color: #1967D2;\n",
       "      --hover-bg-color: #E2EBFA;\n",
       "      --hover-fill-color: #174EA6;\n",
       "      --disabled-fill-color: #AAA;\n",
       "      --disabled-bg-color: #DDD;\n",
       "  }\n",
       "\n",
       "  [theme=dark] .colab-df-quickchart {\n",
       "      --bg-color: #3B4455;\n",
       "      --fill-color: #D2E3FC;\n",
       "      --hover-bg-color: #434B5C;\n",
       "      --hover-fill-color: #FFFFFF;\n",
       "      --disabled-bg-color: #3B4455;\n",
       "      --disabled-fill-color: #666;\n",
       "  }\n",
       "\n",
       "  .colab-df-quickchart {\n",
       "    background-color: var(--bg-color);\n",
       "    border: none;\n",
       "    border-radius: 50%;\n",
       "    cursor: pointer;\n",
       "    display: none;\n",
       "    fill: var(--fill-color);\n",
       "    height: 32px;\n",
       "    padding: 0;\n",
       "    width: 32px;\n",
       "  }\n",
       "\n",
       "  .colab-df-quickchart:hover {\n",
       "    background-color: var(--hover-bg-color);\n",
       "    box-shadow: 0 1px 2px rgba(60, 64, 67, 0.3), 0 1px 3px 1px rgba(60, 64, 67, 0.15);\n",
       "    fill: var(--button-hover-fill-color);\n",
       "  }\n",
       "\n",
       "  .colab-df-quickchart-complete:disabled,\n",
       "  .colab-df-quickchart-complete:disabled:hover {\n",
       "    background-color: var(--disabled-bg-color);\n",
       "    fill: var(--disabled-fill-color);\n",
       "    box-shadow: none;\n",
       "  }\n",
       "\n",
       "  .colab-df-spinner {\n",
       "    border: 2px solid var(--fill-color);\n",
       "    border-color: transparent;\n",
       "    border-bottom-color: var(--fill-color);\n",
       "    animation:\n",
       "      spin 1s steps(1) infinite;\n",
       "  }\n",
       "\n",
       "  @keyframes spin {\n",
       "    0% {\n",
       "      border-color: transparent;\n",
       "      border-bottom-color: var(--fill-color);\n",
       "      border-left-color: var(--fill-color);\n",
       "    }\n",
       "    20% {\n",
       "      border-color: transparent;\n",
       "      border-left-color: var(--fill-color);\n",
       "      border-top-color: var(--fill-color);\n",
       "    }\n",
       "    30% {\n",
       "      border-color: transparent;\n",
       "      border-left-color: var(--fill-color);\n",
       "      border-top-color: var(--fill-color);\n",
       "      border-right-color: var(--fill-color);\n",
       "    }\n",
       "    40% {\n",
       "      border-color: transparent;\n",
       "      border-right-color: var(--fill-color);\n",
       "      border-top-color: var(--fill-color);\n",
       "    }\n",
       "    60% {\n",
       "      border-color: transparent;\n",
       "      border-right-color: var(--fill-color);\n",
       "    }\n",
       "    80% {\n",
       "      border-color: transparent;\n",
       "      border-right-color: var(--fill-color);\n",
       "      border-bottom-color: var(--fill-color);\n",
       "    }\n",
       "    90% {\n",
       "      border-color: transparent;\n",
       "      border-bottom-color: var(--fill-color);\n",
       "    }\n",
       "  }\n",
       "</style>\n",
       "\n",
       "      <script>\n",
       "        async function quickchart(key) {\n",
       "          const quickchartButtonEl =\n",
       "            document.querySelector('#' + key + ' button');\n",
       "          quickchartButtonEl.disabled = true;  // To prevent multiple clicks.\n",
       "          quickchartButtonEl.classList.add('colab-df-spinner');\n",
       "          try {\n",
       "            const charts = await google.colab.kernel.invokeFunction(\n",
       "                'suggestCharts', [key], {});\n",
       "          } catch (error) {\n",
       "            console.error('Error during call to suggestCharts:', error);\n",
       "          }\n",
       "          quickchartButtonEl.classList.remove('colab-df-spinner');\n",
       "          quickchartButtonEl.classList.add('colab-df-quickchart-complete');\n",
       "        }\n",
       "        (() => {\n",
       "          let quickchartButtonEl =\n",
       "            document.querySelector('#df-79b2b7c5-507d-4946-b610-35103c3fc989 button');\n",
       "          quickchartButtonEl.style.display =\n",
       "            google.colab.kernel.accessAllowed ? 'block' : 'none';\n",
       "        })();\n",
       "      </script>\n",
       "    </div>\n",
       "\n",
       "    </div>\n",
       "  </div>\n"
      ],
      "text/plain": [
       "                                                    text  label  \\\n",
       "171                                                           1   \n",
       "5799                                                          1   \n",
       "1164                                                          1   \n",
       "1247                                                          0   \n",
       "5804                                                          1   \n",
       "10424  wow bloodlines irene kelly novel irene kelly m...      1   \n",
       "293    van damn november n harmon ndharmon baltimore ...      1   \n",
       "2274   bya embarrasingtowatch gordonc tait bya stuff ...      0   \n",
       "6668   plot stronger dick jane quite dr seuss level y...      1   \n",
       "4396   item exactly promised gift dads new wife happy...      1   \n",
       "\n",
       "                     domain  word_len  \n",
       "171                   books         0  \n",
       "5799            electronics         0  \n",
       "1164   kitchen_&_housewares         0  \n",
       "1247   kitchen_&_housewares         0  \n",
       "5804   kitchen_&_housewares         0  \n",
       "10424                 books       575  \n",
       "293                     dvd       447  \n",
       "2274                    dvd       446  \n",
       "6668                  books       643  \n",
       "4396   kitchen_&_housewares       458  "
      ]
     },
     "metadata": {},
     "output_type": "display_data"
    },
    {
     "data": {
      "image/png": "[encoded data removed]",
      "text/plain": [
       "<Figure size 768x576 with 1 Axes>"
      ]
     },
     "metadata": {},
     "output_type": "display_data"
    }
   ],
   "source": [
    "train_df = preprocess.remove_outliers(train_df, \"text\", \"Training\")\n",
    "preprocess.show_word_count(train_df, \"text\", \"Training\")"
   ]
  },
  {
   "cell_type": "code",
   "execution_count": 67,
   "metadata": {
    "colab": {
     "base_uri": "https://localhost:8080/",
     "height": 971
    },
    "executionInfo": {
     "elapsed": 273,
     "status": "ok",
     "timestamp": 1756012073237,
     "user": {
      "displayName": "Md. Arifuzzaman Munaf",
      "userId": "05714721125718487051"
     },
     "user_tz": -600
    },
    "id": "dHfYGeDt_iob",
    "outputId": "4cebb920-c92b-4405-d22f-249ceb3d11a4"
   },
   "outputs": [
    {
     "name": "stdout",
     "output_type": "stream",
     "text": [
      "[Testing] Column: 'text'\n",
      "  Quantile cutoffs: low=2.000, high=426.400\n",
      "  Total rows: 2161 | Inliers kept: 2098 | Outliers removed: 63\n",
      "\n",
      "Examples of outliers:\n"
     ]
    },
    {
     "data": {
      "application/vnd.google.colaboratory.intrinsic+json": {
       "summary": "{\n  \"name\": \"preprocess\",\n  \"rows\": 10,\n  \"fields\": [\n    {\n      \"column\": \"text\",\n      \"properties\": {\n        \"dtype\": \"string\",\n        \"num_unique_values\": 9,\n        \"samples\": [\n          \"lot people like watches superhero movies want watch whole bunch action soo much cgi cannot even tell real anyways expected movie much action handle guess wrong get wrong like movie hope spidey tons action tons cgi effects new villains whoo hoo sandman hobgoblin venom anwyays make movie peter parker spiderman thank stalker fan lee creating spiderman bfihno anintellegent unapreciatedgem starringmytwofavoriteactressescarlagugino catherinebell snoopy kelley bfihno threshold complete series dvd john showalter norberto barba tim matheson peter hyams david goyer david jackson carla gugino brian van holt brent spiner robert patrick benedict peter dinklage charles dutton dvd intellegent unapreciated gem starring two favorite actresses carla gugino catherine bell november snoopy kelley austin texas threshold starring carla gugino special guest catherine bell episode outbreak loved show liked cbs like even got dvds unaired shows least try bring sense conclusion carla gugino good usual playing strong woman named dr molley anne caffrey contingency analayst job come worst case scenarios natural manmade disaters earthquake hurricanes wwiii epidemics worldwide finacial depression get picture one called upon scenario named threshold hence name show threshold contengency plan alien invasion job put plan motion quickly assemble team made physian mathmatican linguist areonautics engineer navy seal whose job implement orders gives usually via military force covert means protect red team asscess threat plan stop threat actors played members mollys team good believed cared review carla catherine get point carla owned show carried like karen sisco told great story added importance well done show really believe one best underrated actresses business today stunningly beautiful every tears eyes camera could help focus camera loved beauty made look way acting way carried made stay focused catherine bell episode outbreak episode molly team discovered one ways aliens could spread infect people food supply already knew episodes thought took care wrong molley needed know exactly spread foods long take effect people ate basically drafted catherine bell made apart team whether wanted catherine bell played dr daphene larsons expert botony biology figured foods likely get mainly tomatos food like need worry afraid catherine get much work epsiode mentioned rest told show picked went next year would full blown cast member catherine like carla stunningly beautiful however presence carla camera good job next nothing work essence within characters personality took got looks opposed carla carla game stayed show catherine best could little game show carla catherine really interaction together one kind molly briefing daphene threshold story thus far done daphine sitting chair looking confused overwhelmed molly stood front explained done using cross fade fade inouts edits appreciated effects nice touch would liked see real dialogue pretty sure episode would done something together like know kick alien butt together kissed conclusion loved show tension kept going seemed real neardy though scfi really didnt get feeling story intellegently done wanted cancelled last epsiode however give closeuer feel cheated buying one season show left enough questions wanted see could still come conclusions ended like could add story later date form movie another show never guess still okay show supposed last three years going accordance mollys scernario threshold spotted accessed threat foothold established earth notified public began stop means necessary probably season would called stranglehold get point either means stopped sent home anhilated us season three title suppose never came th stage guess would pointless\",\n          \"\",\n          \"sure network wizards little beasty running tears eyes normal people well bit pain btpfw garbage itdoesnotworkwithmostusbprinters morgan wirelessmavrick btpfw dlink dpg wirelessg print server usb parallel port electronics electronics garbage work usb printers june morgan wireless mavrick rye ny contacted dlink support verified product tested worked minimum number popular usb printers believe number around dlink dpg wireless print server work usb printers owned lexmark z hp psc hp photosmart worked okay one parallel hp laserjet able connect network install print server compatible printers key product compatible would rated stars installation easy almost worryfree plus sensitive wireless radio waves e sensed secured wireless network print server could location returned dlink bought instead linksys wps gu print server worked printers sensitive dlink dpg move printers print server closer wireless access point bcwei whoa applesandoranges wpc bcwei monster cable mvcv monster video highresolution componentvideo cable electronics electronics whoa apples oranges january dwpc ventura ca united states several reviews mention improvement cables replace composite loss r audio video cable svideo multipinned plug almost improvement due fact cable connection methods completely different types signal format tv uses different internal circuitry one virtually svideo cable connection give better image composite type cable component individual rgb video connection better svideo cable brand absolutely nothing may difference one brand component cable another almost always unnoticable bguol goodprinterbutdropstheinternetconnection wds wds bguol canon pixma mp office allinone photo printer fax b electronics electronics good printer drops internet connection november wds wds overland park ks market upgrade printer used amazons reviews decide canon mp good job plug usb cord printer connection internet drops every tears eyes disconnect printer get online recently filled rather lengthy application internet plugged usb cable could print step caused connection drop got reenter information returning canon mp start search another allin one printer bbphm thisisapieceof h everett mr x bbphm memorex gb usb mini travel drive electronics electronics piece may h everett mr x new york ny united states memorex u traveldrive simply piece crap bought easy data transfer travel seldom works computer logo comes plug simply hangs utterly worthless bbw itispieceofjunk juliea ricker camerahound bbw skipdoctor cd repair kit electronics electronics piece junk march julie ricker camera hound augusta maine usa worth cost support romantic pairing back baws loveit hateit pereyra baws apple gb ipod video playback black th generation electronics electronics love hate november pereyra miami fl united states bought lots ilussion ipod put music use months stop working charge battery took best buy bought told external damage repair send apple service return without services reason ipod damage scratches screen lots calls fight told fix would pay us almost cost new terrible service apple short live recommended looking another option mp player buy know one please let know\"\n        ],\n        \"semantic_type\": \"\",\n        \"description\": \"\"\n      }\n    },\n    {\n      \"column\": \"label\",\n      \"properties\": {\n        \"dtype\": \"number\",\n        \"std\": 0,\n        \"min\": 0,\n        \"max\": 1,\n        \"num_unique_values\": 2,\n        \"samples\": [\n          0,\n          1\n        ],\n        \"semantic_type\": \"\",\n        \"description\": \"\"\n      }\n    },\n    {\n      \"column\": \"domain\",\n      \"properties\": {\n        \"dtype\": \"category\",\n        \"num_unique_values\": 3,\n        \"samples\": [\n          \"dvd\",\n          \"books\"\n        ],\n        \"semantic_type\": \"\",\n        \"description\": \"\"\n      }\n    },\n    {\n      \"column\": \"word_len\",\n      \"properties\": {\n        \"dtype\": \"number\",\n        \"std\": 283,\n        \"min\": 0,\n        \"max\": 592,\n        \"num_unique_values\": 7,\n        \"samples\": [\n          1,\n          0\n        ],\n        \"semantic_type\": \"\",\n        \"description\": \"\"\n      }\n    }\n  ]\n}",
       "type": "dataframe"
      },
      "text/html": [
       "\n",
       "  <div id=\"df-17bc3fa8-ba58-441a-a5e0-7f19313db928\" class=\"colab-df-container\">\n",
       "    <div>\n",
       "<style scoped>\n",
       "    .dataframe tbody tr th:only-of-type {\n",
       "        vertical-align: middle;\n",
       "    }\n",
       "\n",
       "    .dataframe tbody tr th {\n",
       "        vertical-align: top;\n",
       "    }\n",
       "\n",
       "    .dataframe thead th {\n",
       "        text-align: right;\n",
       "    }\n",
       "</style>\n",
       "<table border=\"1\" class=\"dataframe\">\n",
       "  <thead>\n",
       "    <tr style=\"text-align: right;\">\n",
       "      <th></th>\n",
       "      <th>text</th>\n",
       "      <th>label</th>\n",
       "      <th>domain</th>\n",
       "      <th>word_len</th>\n",
       "    </tr>\n",
       "  </thead>\n",
       "  <tbody>\n",
       "    <tr>\n",
       "      <th>3126</th>\n",
       "      <td>rating</td>\n",
       "      <td>1</td>\n",
       "      <td>dvd</td>\n",
       "      <td>1</td>\n",
       "    </tr>\n",
       "    <tr>\n",
       "      <th>509</th>\n",
       "      <td></td>\n",
       "      <td>1</td>\n",
       "      <td>books</td>\n",
       "      <td>0</td>\n",
       "    </tr>\n",
       "    <tr>\n",
       "      <th>9880</th>\n",
       "      <td>really</td>\n",
       "      <td>0</td>\n",
       "      <td>books</td>\n",
       "      <td>1</td>\n",
       "    </tr>\n",
       "    <tr>\n",
       "      <th>10039</th>\n",
       "      <td>enough</td>\n",
       "      <td>1</td>\n",
       "      <td>dvd</td>\n",
       "      <td>1</td>\n",
       "    </tr>\n",
       "    <tr>\n",
       "      <th>7</th>\n",
       "      <td></td>\n",
       "      <td>0</td>\n",
       "      <td>electronics</td>\n",
       "      <td>0</td>\n",
       "    </tr>\n",
       "    <tr>\n",
       "      <th>3523</th>\n",
       "      <td>terrible direction terrible writing almost fee...</td>\n",
       "      <td>0</td>\n",
       "      <td>dvd</td>\n",
       "      <td>567</td>\n",
       "    </tr>\n",
       "    <tr>\n",
       "      <th>2421</th>\n",
       "      <td>sure network wizards little beasty running tea...</td>\n",
       "      <td>0</td>\n",
       "      <td>electronics</td>\n",
       "      <td>453</td>\n",
       "    </tr>\n",
       "    <tr>\n",
       "      <th>7027</th>\n",
       "      <td>movie clunker november dexbet dexbet colcheste...</td>\n",
       "      <td>0</td>\n",
       "      <td>dvd</td>\n",
       "      <td>514</td>\n",
       "    </tr>\n",
       "    <tr>\n",
       "      <th>4499</th>\n",
       "      <td>lot people like watches superhero movies want ...</td>\n",
       "      <td>1</td>\n",
       "      <td>dvd</td>\n",
       "      <td>544</td>\n",
       "    </tr>\n",
       "    <tr>\n",
       "      <th>2971</th>\n",
       "      <td>reading reviews bootleg directors cut going wa...</td>\n",
       "      <td>1</td>\n",
       "      <td>dvd</td>\n",
       "      <td>592</td>\n",
       "    </tr>\n",
       "  </tbody>\n",
       "</table>\n",
       "</div>\n",
       "    <div class=\"colab-df-buttons\">\n",
       "\n",
       "  <div class=\"colab-df-container\">\n",
       "    <button class=\"colab-df-convert\" onclick=\"convertToInteractive('df-17bc3fa8-ba58-441a-a5e0-7f19313db928')\"\n",
       "            title=\"Convert this dataframe to an interactive table.\"\n",
       "            style=\"display:none;\">\n",
       "\n",
       "  <svg xmlns=\"http://www.w3.org/2000/svg\" height=\"24px\" viewBox=\"0 -960 960 960\">\n",
       "    <path d=\"M120-120v-720h720v720H120Zm60-500h600v-160H180v160Zm220 220h160v-160H400v160Zm0 220h160v-160H400v160ZM180-400h160v-160H180v160Zm440 0h160v-160H620v160ZM180-180h160v-160H180v160Zm440 0h160v-160H620v160Z\"/>\n",
       "  </svg>\n",
       "    </button>\n",
       "\n",
       "  <style>\n",
       "    .colab-df-container {\n",
       "      display:flex;\n",
       "      gap: 12px;\n",
       "    }\n",
       "\n",
       "    .colab-df-convert {\n",
       "      background-color: #E8F0FE;\n",
       "      border: none;\n",
       "      border-radius: 50%;\n",
       "      cursor: pointer;\n",
       "      display: none;\n",
       "      fill: #1967D2;\n",
       "      height: 32px;\n",
       "      padding: 0 0 0 0;\n",
       "      width: 32px;\n",
       "    }\n",
       "\n",
       "    .colab-df-convert:hover {\n",
       "      background-color: #E2EBFA;\n",
       "      box-shadow: 0px 1px 2px rgba(60, 64, 67, 0.3), 0px 1px 3px 1px rgba(60, 64, 67, 0.15);\n",
       "      fill: #174EA6;\n",
       "    }\n",
       "\n",
       "    .colab-df-buttons div {\n",
       "      margin-bottom: 4px;\n",
       "    }\n",
       "\n",
       "    [theme=dark] .colab-df-convert {\n",
       "      background-color: #3B4455;\n",
       "      fill: #D2E3FC;\n",
       "    }\n",
       "\n",
       "    [theme=dark] .colab-df-convert:hover {\n",
       "      background-color: #434B5C;\n",
       "      box-shadow: 0px 1px 3px 1px rgba(0, 0, 0, 0.15);\n",
       "      filter: drop-shadow(0px 1px 2px rgba(0, 0, 0, 0.3));\n",
       "      fill: #FFFFFF;\n",
       "    }\n",
       "  </style>\n",
       "\n",
       "    <script>\n",
       "      const buttonEl =\n",
       "        document.querySelector('#df-17bc3fa8-ba58-441a-a5e0-7f19313db928 button.colab-df-convert');\n",
       "      buttonEl.style.display =\n",
       "        google.colab.kernel.accessAllowed ? 'block' : 'none';\n",
       "\n",
       "      async function convertToInteractive(key) {\n",
       "        const element = document.querySelector('#df-17bc3fa8-ba58-441a-a5e0-7f19313db928');\n",
       "        const dataTable =\n",
       "          await google.colab.kernel.invokeFunction('convertToInteractive',\n",
       "                                                    [key], {});\n",
       "        if (!dataTable) return;\n",
       "\n",
       "        const docLinkHtml = 'Like what you see? Visit the ' +\n",
       "          '<a target=\"_blank\" href=https://colab.research.google.com/notebooks/data_table.ipynb>data table notebook</a>'\n",
       "          + ' to learn more about interactive tables.';\n",
       "        element.innerHTML = '';\n",
       "        dataTable['output_type'] = 'display_data';\n",
       "        await google.colab.output.renderOutput(dataTable, element);\n",
       "        const docLink = document.createElement('div');\n",
       "        docLink.innerHTML = docLinkHtml;\n",
       "        element.appendChild(docLink);\n",
       "      }\n",
       "    </script>\n",
       "  </div>\n",
       "\n",
       "\n",
       "    <div id=\"df-544b76c6-5eea-4e1b-a645-28a23b5086e2\">\n",
       "      <button class=\"colab-df-quickchart\" onclick=\"quickchart('df-544b76c6-5eea-4e1b-a645-28a23b5086e2')\"\n",
       "                title=\"Suggest charts\"\n",
       "                style=\"display:none;\">\n",
       "\n",
       "<svg xmlns=\"http://www.w3.org/2000/svg\" height=\"24px\"viewBox=\"0 0 24 24\"\n",
       "     width=\"24px\">\n",
       "    <g>\n",
       "        <path d=\"M19 3H5c-1.1 0-2 .9-2 2v14c0 1.1.9 2 2 2h14c1.1 0 2-.9 2-2V5c0-1.1-.9-2-2-2zM9 17H7v-7h2v7zm4 0h-2V7h2v10zm4 0h-2v-4h2v4z\"/>\n",
       "    </g>\n",
       "</svg>\n",
       "      </button>\n",
       "\n",
       "<style>\n",
       "  .colab-df-quickchart {\n",
       "      --bg-color: #E8F0FE;\n",
       "      --fill-color: #1967D2;\n",
       "      --hover-bg-color: #E2EBFA;\n",
       "      --hover-fill-color: #174EA6;\n",
       "      --disabled-fill-color: #AAA;\n",
       "      --disabled-bg-color: #DDD;\n",
       "  }\n",
       "\n",
       "  [theme=dark] .colab-df-quickchart {\n",
       "      --bg-color: #3B4455;\n",
       "      --fill-color: #D2E3FC;\n",
       "      --hover-bg-color: #434B5C;\n",
       "      --hover-fill-color: #FFFFFF;\n",
       "      --disabled-bg-color: #3B4455;\n",
       "      --disabled-fill-color: #666;\n",
       "  }\n",
       "\n",
       "  .colab-df-quickchart {\n",
       "    background-color: var(--bg-color);\n",
       "    border: none;\n",
       "    border-radius: 50%;\n",
       "    cursor: pointer;\n",
       "    display: none;\n",
       "    fill: var(--fill-color);\n",
       "    height: 32px;\n",
       "    padding: 0;\n",
       "    width: 32px;\n",
       "  }\n",
       "\n",
       "  .colab-df-quickchart:hover {\n",
       "    background-color: var(--hover-bg-color);\n",
       "    box-shadow: 0 1px 2px rgba(60, 64, 67, 0.3), 0 1px 3px 1px rgba(60, 64, 67, 0.15);\n",
       "    fill: var(--button-hover-fill-color);\n",
       "  }\n",
       "\n",
       "  .colab-df-quickchart-complete:disabled,\n",
       "  .colab-df-quickchart-complete:disabled:hover {\n",
       "    background-color: var(--disabled-bg-color);\n",
       "    fill: var(--disabled-fill-color);\n",
       "    box-shadow: none;\n",
       "  }\n",
       "\n",
       "  .colab-df-spinner {\n",
       "    border: 2px solid var(--fill-color);\n",
       "    border-color: transparent;\n",
       "    border-bottom-color: var(--fill-color);\n",
       "    animation:\n",
       "      spin 1s steps(1) infinite;\n",
       "  }\n",
       "\n",
       "  @keyframes spin {\n",
       "    0% {\n",
       "      border-color: transparent;\n",
       "      border-bottom-color: var(--fill-color);\n",
       "      border-left-color: var(--fill-color);\n",
       "    }\n",
       "    20% {\n",
       "      border-color: transparent;\n",
       "      border-left-color: var(--fill-color);\n",
       "      border-top-color: var(--fill-color);\n",
       "    }\n",
       "    30% {\n",
       "      border-color: transparent;\n",
       "      border-left-color: var(--fill-color);\n",
       "      border-top-color: var(--fill-color);\n",
       "      border-right-color: var(--fill-color);\n",
       "    }\n",
       "    40% {\n",
       "      border-color: transparent;\n",
       "      border-right-color: var(--fill-color);\n",
       "      border-top-color: var(--fill-color);\n",
       "    }\n",
       "    60% {\n",
       "      border-color: transparent;\n",
       "      border-right-color: var(--fill-color);\n",
       "    }\n",
       "    80% {\n",
       "      border-color: transparent;\n",
       "      border-right-color: var(--fill-color);\n",
       "      border-bottom-color: var(--fill-color);\n",
       "    }\n",
       "    90% {\n",
       "      border-color: transparent;\n",
       "      border-bottom-color: var(--fill-color);\n",
       "    }\n",
       "  }\n",
       "</style>\n",
       "\n",
       "      <script>\n",
       "        async function quickchart(key) {\n",
       "          const quickchartButtonEl =\n",
       "            document.querySelector('#' + key + ' button');\n",
       "          quickchartButtonEl.disabled = true;  // To prevent multiple clicks.\n",
       "          quickchartButtonEl.classList.add('colab-df-spinner');\n",
       "          try {\n",
       "            const charts = await google.colab.kernel.invokeFunction(\n",
       "                'suggestCharts', [key], {});\n",
       "          } catch (error) {\n",
       "            console.error('Error during call to suggestCharts:', error);\n",
       "          }\n",
       "          quickchartButtonEl.classList.remove('colab-df-spinner');\n",
       "          quickchartButtonEl.classList.add('colab-df-quickchart-complete');\n",
       "        }\n",
       "        (() => {\n",
       "          let quickchartButtonEl =\n",
       "            document.querySelector('#df-544b76c6-5eea-4e1b-a645-28a23b5086e2 button');\n",
       "          quickchartButtonEl.style.display =\n",
       "            google.colab.kernel.accessAllowed ? 'block' : 'none';\n",
       "        })();\n",
       "      </script>\n",
       "    </div>\n",
       "\n",
       "    </div>\n",
       "  </div>\n"
      ],
      "text/plain": [
       "                                                    text  label       domain  \\\n",
       "3126                                              rating      1          dvd   \n",
       "509                                                           1        books   \n",
       "9880                                              really      0        books   \n",
       "10039                                             enough      1          dvd   \n",
       "7                                                             0  electronics   \n",
       "3523   terrible direction terrible writing almost fee...      0          dvd   \n",
       "2421   sure network wizards little beasty running tea...      0  electronics   \n",
       "7027   movie clunker november dexbet dexbet colcheste...      0          dvd   \n",
       "4499   lot people like watches superhero movies want ...      1          dvd   \n",
       "2971   reading reviews bootleg directors cut going wa...      1          dvd   \n",
       "\n",
       "       word_len  \n",
       "3126          1  \n",
       "509           0  \n",
       "9880          1  \n",
       "10039         1  \n",
       "7             0  \n",
       "3523        567  \n",
       "2421        453  \n",
       "7027        514  \n",
       "4499        544  \n",
       "2971        592  "
      ]
     },
     "metadata": {},
     "output_type": "display_data"
    },
    {
     "data": {
      "image/png": "[encoded data removed]",
      "text/plain": [
       "<Figure size 768x576 with 1 Axes>"
      ]
     },
     "metadata": {},
     "output_type": "display_data"
    }
   ],
   "source": [
    "test_df = preprocess.remove_outliers(test_df, \"text\", \"Testing\")\n",
    "preprocess.show_word_count(train_df, \"text\", \"Testing\")"
   ]
  },
  {
   "cell_type": "markdown",
   "metadata": {
    "id": "zKzyxK57Wfdr"
   },
   "source": [
    "The analysis of word length distributions in the training and testing datasets revealed the presence of extreme outliers. Initially, both datasets showed a long-tailed distribution, with most reviews containing fewer than 100 words but a small number extending beyond 400–600 words, and even some exceeding 800 words. Using quantile-based thresholds, these outliers were detected and removed to improve consistency.\n",
    "\n",
    "In the training set (8,642 rows), 244 reviews were identified as outliers, leaving 8,398 valid inliers. In the testing set (2,161 rows), 63 reviews were flagged as outliers, leaving 2,098 inliers. Some of the outliers included reviews with zero word length (likely due to preprocessing artifacts) and excessively long reviews above 400 words.\n",
    "\n",
    "After filtering, the distributions became more compact and concentrated, with the majority of reviews now falling within a practical range of 1–435 words. This step ensures that the dataset maintains realistic review lengths, reducing noise from abnormal entries and making it more suitable for training robust sentiment classification models."
   ]
  },
  {
   "cell_type": "markdown",
   "metadata": {
    "id": "YpWjAoCE85hm"
   },
   "source": [
    "# 3.9 Tokenization\n",
    "\n",
    "To prepare the text data for model training, a custom PyTorch dataset class (TextDataset) was implemented. This class is tailored for binary sentiment classification (0 = negative, 1 = positive) and leverages the Hugging Face tokenizer to convert raw review text into standardized model inputs.\n",
    "\n",
    "The dataset construction process begins by selecting the text column. If not explicitly specified, the class automatically identifies the column with the highest average text length (excluding the label column), ensuring the most relevant source of review content is used. Labels are extracted from the designated label column, converted to integer format, and stored as tensors of type torch.long.\n",
    "\n",
    "The tokenizer (default: distilbert-base-uncased) processes all reviews in batch mode with the following configurations:\n",
    "- Maximum sequence length is set to 128 tokens by default, with truncation applied to longer sequences and padding applied to shorter ones, producing uniform input shapes.\n",
    "- Both input IDs and attention masks are generated and stored as tensors for downstream training.\n",
    "\n",
    "The dataset class also implements the standard PyTorch methods __len__ and __getitem__. As a result, each dataset entry returns a tuple containing (input_ids, attention_mask, label), making it fully compatible with PyTorch DataLoader for efficient batch processing.\n",
    "\n",
    "\n",
    "This design ensures:\n",
    "- **Efficiency** – tokenization is performed once at dataset initialization, avoiding repeated preprocessing during training.\n",
    "- **Consistency** – all sequences are standardized to fixed lengths, which is a strict requirement for transformer-based architectures.\n",
    "- **Flexibility** – configurable parameters (e.g., sentence length, text column, model tokenizer) allow adaptation to different datasets and experimental needs.\n",
    "- **Reproducibility** – encapsulating tokenization within a dataset class guarantees that both training and evaluation pipelines use the same preprocessing logic.\n",
    "\n",
    "Through this tokenization pipeline, raw textual reviews are transformed into clean, structured, and model-ready representations, ensuring robust input preparation for fine-tuning transformer models on sentiment classification."
   ]
  },
  {
   "cell_type": "code",
   "execution_count": 68,
   "metadata": {
    "colab": {
     "base_uri": "https://localhost:8080/"
    },
    "executionInfo": {
     "elapsed": 3474,
     "status": "ok",
     "timestamp": 1756012076712,
     "user": {
      "displayName": "Md. Arifuzzaman Munaf",
      "userId": "05714721125718487051"
     },
     "user_tz": -600
    },
    "id": "qhVhlGzX9U-t",
    "outputId": "facf9cbb-2b47-445a-e25c-0f935b5616f7"
   },
   "outputs": [
    {
     "name": "stdout",
     "output_type": "stream",
     "text": [
      "Tokens: tensor([  101,  2048,  4259,  2457, 19867,  7129,  2619,  2204,  3105, 15774,\n",
      "         2175, 25844,  8233,  7089,  2934, 18896,  2071,  2589, 25844, 10228,\n",
      "         2470,  7009, 21877, 19341,  2078,  4766,  6898,  2934,  2204,  2767,\n",
      "         2619,  8495,  5371,  4152,  5500,  2919,  4364,  2424, 25844,  4593,\n",
      "         2718, 13172,  2157,  5252,  4269,   102,     0,     0,     0,     0,\n",
      "            0,     0,     0,     0,     0,     0,     0,     0,     0,     0,\n",
      "            0,     0,     0,     0,     0,     0,     0,     0,     0,     0,\n",
      "            0,     0,     0,     0,     0,     0,     0,     0,     0,     0,\n",
      "            0,     0,     0,     0,     0,     0,     0,     0,     0,     0,\n",
      "            0,     0,     0,     0,     0,     0])\n",
      "Label: tensor(1)\n"
     ]
    }
   ],
   "source": [
    "from src.dataset import TextDataset\n",
    "\n",
    "train_ds = TextDataset(train_df, sentence_len=96, label_col=\"label\", text_col=\"text\")\n",
    "test_ds = TextDataset(test_df, sentence_len=96, label_col=\"label\", text_col=\"text\")\n",
    "\n",
    "text, masks, label = train_ds[0]\n",
    "print(\"Tokens:\", text)\n",
    "print(\"Label:\", label)"
   ]
  },
  {
   "cell_type": "markdown",
   "metadata": {
    "id": "x3EcSN27YB0F"
   },
   "source": [
    "# 4. Build Model\n",
    "\n",
    "A DistilBERT-based classifier was implemented and fine-tuned for binary sentiment classification on the Multi-Domain Sentiment Dataset. The architecture combines a pre-trained DistilBERT encoder with a custom two-layer feedforward classification head. The design balances the power of transformer-based contextual embeddings with added regularization and flexibility to adapt to the target dataset.\n",
    "\n",
    "Key aspects of the implementation include:\n",
    "1.\t**Backbone Model**\n",
    "- The encoder is initialized from the Hugging Face distilbert-base-uncased checkpoint.\n",
    "- Flexibility is built in to freeze the entire encoder or selectively freeze the bottom n transformer layers (out of 6). This enables control over the trade-off between leveraging pre-trained knowledge and adapting deeper layers to the dataset.\n",
    "2.\t**Pooling Mechanism**\n",
    "- A masked mean-pooling strategy aggregates token representations, weighted by the attention mask.\n",
    "- This approach captures global sequence-level information while ignoring padded tokens. As an alternative, the model supports using the first-token ([CLS]) embedding.\n",
    "3.\t**Classification Head**\n",
    "- The pooled representation passes through a LayerNorm → Dropout → Linear → GELU → Dropout → Linear stack.\n",
    "- The addition of dropout (default: 0.4) provides stronger regularization, reducing the risk of overfitting on domain-specific text.\n",
    "- The head reduces the hidden dimension (768 → 384) before projecting to the target number of classes.\n",
    "4.\t**Optimization Strategy**\n",
    "- The AdamW optimizer is used with weight decay (0.03) to improve generalization.\n",
    "- Label smoothing (0.08) is applied to the cross-entropy loss to calibrate predictions, preventing the model from becoming overconfident and improving robustness.\n",
    "- Training uses 16-sample mini-batches across 3 epochs, with a learning rate of 2e-5, a common fine-tuning range for transformer models.\n",
    "5.\t**Training Pipeline**\n",
    "- The model is trained and evaluated using PyTorch DataLoaders for efficient batching.\n",
    "- Reproducibility is ensured by setting a fixed random seed (torch.manual_seed(42)).\n",
    "- Results are tracked with experiment identifiers (ident_str), enabling structured comparison of different training runs.\n",
    "\n",
    "\n",
    "Rationale for the using this model -\n",
    "- Transformer Backbone: DistilBERT provides lightweight yet powerful contextual embeddings, making it efficient for large-scale sentiment analysis while retaining strong performance.\n",
    "- Layer Freezing: Partial freezing allows reuse of lower-level linguistic features while fine-tuning higher layers for domain-specific sentiment cues.\n",
    "- Mean Pooling: Masked averaging captures holistic context across the review, which is advantageous compared to relying solely on a single token.\n",
    "- Regularization (Dropout + Label Smoothing): These techniques mitigate overfitting and improve generalization across domains.\n",
    "- Optimization Choices: AdamW with weight decay balances effective convergence with parameter regularization.\n",
    "\n",
    "In summary, this workflow establishes a robust fine-tuned DistilBERT sentiment classifier that leverages pre-trained language representations while incorporating careful design choices such as pooling, layer freezing, and regularization—to enhance domain adaptability and prevent overfitting."
   ]
  },
  {
   "cell_type": "code",
   "execution_count": 69,
   "metadata": {
    "colab": {
     "base_uri": "https://localhost:8080/",
     "height": 1000
    },
    "executionInfo": {
     "elapsed": 204858,
     "status": "ok",
     "timestamp": 1756012281575,
     "user": {
      "displayName": "Md. Arifuzzaman Munaf",
      "userId": "05714721125718487051"
     },
     "user_tz": -600
    },
    "id": "t5rJh65J_mmQ",
    "outputId": "daeecaef-efc7-46df-9ac9-266989095f5c"
   },
   "outputs": [
    {
     "data": {
      "text/html": [
       "Tracking run with wandb version 0.19.9"
      ],
      "text/plain": [
       "<IPython.core.display.HTML object>"
      ]
     },
     "metadata": {},
     "output_type": "display_data"
    },
    {
     "data": {
      "text/html": [
       "Run data is saved locally in <code>/content/drive/MyDrive/ISY503/wandb/wandb/run-20250824_050757-wn5z5bks</code>"
      ],
      "text/plain": [
       "<IPython.core.display.HTML object>"
      ]
     },
     "metadata": {},
     "output_type": "display_data"
    },
    {
     "data": {
      "text/html": [
       "Syncing run <strong><a href='https://wandb.ai/arifuzzamanmunaf-torrensuni/ISY502_3/runs/wn5z5bks' target=\"_blank\">DistilBertForClassification_AdamW_CrossEntropyLoss_3_16_2e-05</a></strong> to <a href='https://wandb.ai/arifuzzamanmunaf-torrensuni/ISY502_3' target=\"_blank\">Weights & Biases</a> (<a href='https://wandb.me/developer-guide' target=\"_blank\">docs</a>)<br>"
      ],
      "text/plain": [
       "<IPython.core.display.HTML object>"
      ]
     },
     "metadata": {},
     "output_type": "display_data"
    },
    {
     "data": {
      "text/html": [
       " View project at <a href='https://wandb.ai/arifuzzamanmunaf-torrensuni/ISY502_3' target=\"_blank\">https://wandb.ai/arifuzzamanmunaf-torrensuni/ISY502_3</a>"
      ],
      "text/plain": [
       "<IPython.core.display.HTML object>"
      ]
     },
     "metadata": {},
     "output_type": "display_data"
    },
    {
     "data": {
      "text/html": [
       " View run at <a href='https://wandb.ai/arifuzzamanmunaf-torrensuni/ISY502_3/runs/wn5z5bks' target=\"_blank\">https://wandb.ai/arifuzzamanmunaf-torrensuni/ISY502_3/runs/wn5z5bks</a>"
      ],
      "text/plain": [
       "<IPython.core.display.HTML object>"
      ]
     },
     "metadata": {},
     "output_type": "display_data"
    },
    {
     "name": "stderr",
     "output_type": "stream",
     "text": []
    },
    {
     "data": {
      "text/html": [],
      "text/plain": [
       "<IPython.core.display.HTML object>"
      ]
     },
     "metadata": {},
     "output_type": "display_data"
    },
    {
     "data": {
      "text/html": [
       "<br>    <style><br>        .wandb-row {<br>            display: flex;<br>            flex-direction: row;<br>            flex-wrap: wrap;<br>            justify-content: flex-start;<br>            width: 100%;<br>        }<br>        .wandb-col {<br>            display: flex;<br>            flex-direction: column;<br>            flex-basis: 100%;<br>            flex: 1;<br>            padding: 10px;<br>        }<br>    </style><br><div class=\"wandb-row\"><div class=\"wandb-col\"><h3>Run history:</h3><br/><table class=\"wandb\"><tr><td>Accuracy_train</td><td>▁▇█</td></tr><tr><td>Accuracy_val</td><td>▁▇█</td></tr><tr><td>F1_train</td><td>▁▇█</td></tr><tr><td>F1_val</td><td>▁▇█</td></tr><tr><td>Loss_train</td><td>█▃▁</td></tr><tr><td>Loss_val</td><td>█▁▃</td></tr><tr><td>epoch</td><td>▁▅█</td></tr><tr><td>lr</td><td>█▄▁</td></tr></table><br/></div><div class=\"wandb-col\"><h3>Run summary:</h3><br/><table class=\"wandb\"><tr><td>Accuracy_train</td><td>0.80007</td></tr><tr><td>Accuracy_val</td><td>0.76406</td></tr><tr><td>F1_train</td><td>0.79912</td></tr><tr><td>F1_val</td><td>0.76335</td></tr><tr><td>Loss_train</td><td>0.47783</td></tr><tr><td>Loss_val</td><td>0.54106</td></tr><tr><td>epoch</td><td>3</td></tr><tr><td>lr</td><td>0</td></tr></table><br/></div></div>"
      ],
      "text/plain": [
       "<IPython.core.display.HTML object>"
      ]
     },
     "metadata": {},
     "output_type": "display_data"
    },
    {
     "data": {
      "text/html": [
       " View run <strong style=\"color:#cdcd00\">DistilBertForClassification_AdamW_CrossEntropyLoss_3_16_2e-05</strong> at: <a href='https://wandb.ai/arifuzzamanmunaf-torrensuni/ISY502_3/runs/wn5z5bks' target=\"_blank\">https://wandb.ai/arifuzzamanmunaf-torrensuni/ISY502_3/runs/wn5z5bks</a><br> View project at: <a href='https://wandb.ai/arifuzzamanmunaf-torrensuni/ISY502_3' target=\"_blank\">https://wandb.ai/arifuzzamanmunaf-torrensuni/ISY502_3</a><br>Synced 5 W&B file(s), 0 media file(s), 0 artifact file(s) and 0 other file(s)"
      ],
      "text/plain": [
       "<IPython.core.display.HTML object>"
      ]
     },
     "metadata": {},
     "output_type": "display_data"
    },
    {
     "data": {
      "text/html": [
       "Find logs at: <code>./drive/MyDrive/ISY503/wandb/wandb/run-20250824_050757-wn5z5bks/logs</code>"
      ],
      "text/plain": [
       "<IPython.core.display.HTML object>"
      ]
     },
     "metadata": {},
     "output_type": "display_data"
    },
    {
     "data": {
      "image/png": "[encoded data removed]",
      "text/plain": [
       "<Figure size 768x576 with 2 Axes>"
      ]
     },
     "metadata": {},
     "output_type": "display_data"
    },
    {
     "name": "stdout",
     "output_type": "stream",
     "text": [
      "Model weights saved to: /content/drive/MyDrive/ISY503/saved_models/DistilBertForClassification_AdamW_CrossEntropyLoss_3_16_2e-05.pth\n"
     ]
    },
    {
     "data": {
      "application/vnd.google.colaboratory.intrinsic+json": {
       "type": "string"
      },
      "text/plain": [
       "'/content/drive/MyDrive/ISY503/saved_models/DistilBertForClassification_AdamW_CrossEntropyLoss_3_16_2e-05.pth'"
      ]
     },
     "execution_count": 69,
     "metadata": {},
     "output_type": "execute_result"
    }
   ],
   "source": [
    "import torch\n",
    "import torch.nn as nn\n",
    "from torch.utils.data import DataLoader\n",
    "from src.models import DistilBertForClassification\n",
    "from src import train\n",
    "\n",
    "torch.manual_seed(42)  # ensures reproducibility of results\n",
    "\n",
    "NUM_EPOCHS = 3          # number of epochs for fine-tuning\n",
    "BATCH_SIZE = 16         # mini-batch size\n",
    "learning_rate = 2e-5    # learning rate, standard for transformer fine-tuning\n",
    "\n",
    "# create DataLoaders for training and testing datasets\n",
    "train_loader = DataLoader(train_ds, batch_size=BATCH_SIZE, shuffle=True)   # shuffle training data for randomness\n",
    "test_loader = DataLoader(test_ds, batch_size=BATCH_SIZE, shuffle=False)    # keep test data order fixed\n",
    "\n",
    "# initialize DistilBERT classifier with custom head\n",
    "# dropout=0.4 for stronger regularization, use_mean_pool=True for masked mean pooling\n",
    "# freeze_n_layers=4 keeps bottom 4 layers frozen while fine-tuning higher layers\n",
    "model = DistilBertForClassification(\n",
    "    n_classes=cfg.num_classes,\n",
    "    dropout=0.4,\n",
    "    use_mean_pool=True,\n",
    "    freeze_encoder=False,\n",
    "    freeze_n_layers=4\n",
    ")\n",
    "\n",
    "# AdamW optimizer with weight decay (0.03) for better generalization\n",
    "# only updates parameters that are not frozen\n",
    "optimizer = torch.optim.AdamW(\n",
    "    filter(lambda p: p.requires_grad, model.parameters()),\n",
    "    lr=learning_rate,\n",
    "    weight_decay=0.03\n",
    ")\n",
    "\n",
    "# cross-entropy loss with label smoothing (0.08) to improve calibration\n",
    "# and prevent overconfident predictions\n",
    "criterion = nn.CrossEntropyLoss(label_smoothing=0.08)\n",
    "\n",
    "# experiment identifier for tracking different runs\n",
    "ident_str = f\"{optimizer.__class__.__name__}_{criterion.__class__.__name__}_{NUM_EPOCHS}_{BATCH_SIZE}_{learning_rate}\"\n",
    "\n",
    "# train and evaluate model using custom training loop\n",
    "# project_name used for experiment grouping, ident_str for run-specific tracking\n",
    "train.train_model(\n",
    "    model,\n",
    "    train_loader,\n",
    "    test_loader,\n",
    "    optimizer,\n",
    "    criterion,\n",
    "    cfg.class_names,\n",
    "    NUM_EPOCHS,\n",
    "    project_name=\"ISY502_3\",\n",
    "    ident_str=ident_str\n",
    ")"
   ]
  },
  {
   "cell_type": "markdown",
   "metadata": {
    "id": "IT5xKFqz6Vax"
   },
   "source": [
    "For find more detail on accuracy metrices visit :"
   ]
  }
 ],
 "metadata": {
  "accelerator": "GPU",
  "colab": {
   "gpuType": "T4",
   "provenance": []
  },
  "kernelspec": {
   "display_name": "Python 3",
   "name": "python3"
  },
  "language_info": {
   "name": "python"
  }
 },
 "nbformat": 4,
 "nbformat_minor": 0
}
